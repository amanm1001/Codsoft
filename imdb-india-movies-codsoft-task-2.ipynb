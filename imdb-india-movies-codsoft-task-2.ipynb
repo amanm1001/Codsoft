{
 "cells": [
  {
   "cell_type": "markdown",
   "id": "f5f8ac3e",
   "metadata": {
    "id": "09DL8v20K4ip",
    "papermill": {
     "duration": 0.008917,
     "end_time": "2023-11-13T09:29:22.591281",
     "exception": false,
     "start_time": "2023-11-13T09:29:22.582364",
     "status": "completed"
    },
    "tags": []
   },
   "source": [
    "## Movie Rating Prediction"
   ]
  },
  {
   "cell_type": "code",
   "execution_count": 45,
   "id": "dfc2ef00",
   "metadata": {
    "execution": {
     "iopub.execute_input": "2023-11-13T09:29:22.610732Z",
     "iopub.status.busy": "2023-11-13T09:29:22.610063Z",
     "iopub.status.idle": "2023-11-13T09:29:24.827651Z",
     "shell.execute_reply": "2023-11-13T09:29:24.826659Z"
    },
    "id": "8ThY_ORLJ792",
    "papermill": {
     "duration": 2.230008,
     "end_time": "2023-11-13T09:29:24.829994",
     "exception": false,
     "start_time": "2023-11-13T09:29:22.599986",
     "status": "completed"
    },
    "tags": []
   },
   "outputs": [],
   "source": [
    "# Importing Libraries for Time Series Analysis\n",
    "import pandas as pd\n",
    "import numpy as np\n",
    "import matplotlib.pyplot as plt\n",
    "import seaborn as sns\n",
    "from statsmodels.tsa.seasonal import seasonal_decompose\n",
    "\n",
    "# Importing Libraries for Machine Learning\n",
    "from sklearn.model_selection import train_test_split\n",
    "from sklearn.linear_model import LinearRegression, LogisticRegression\n",
    "from sklearn.ensemble import RandomForestRegressor, RandomForestClassifier\n",
    "from sklearn.metrics import mean_squared_error, accuracy_score\n",
    "from sklearn.preprocessing import LabelEncoder, StandardScaler\n",
    "from sklearn.metrics import mean_absolute_error, r2_score\n",
    "from sklearn.base import clone\n",
    "from sklearn.feature_selection import SelectKBest, f_regression\n",
    "\n",
    "# For feature engineering and model evaluation\n",
    "from sklearn.feature_selection import SelectKBest, f_regression\n",
    "from sklearn.model_selection import cross_val_score\n",
    "\n",
    "# For seasonal decomposition and plots\n",
    "from matplotlib import dates as mdates\n",
    "import matplotlib.ticker as ticker\n",
    "\n",
    "# Other useful libraries\n",
    "import warnings\n",
    "warnings.filterwarnings('ignore')"
   ]
  },
  {
   "cell_type": "code",
   "execution_count": 46,
   "id": "0077b6bf",
   "metadata": {
    "execution": {
     "iopub.execute_input": "2023-11-13T09:29:24.847686Z",
     "iopub.status.busy": "2023-11-13T09:29:24.847188Z",
     "iopub.status.idle": "2023-11-13T09:29:24.955517Z",
     "shell.execute_reply": "2023-11-13T09:29:24.954450Z"
    },
    "id": "wdSw-5b8Pjy5",
    "outputId": "25251c6c-fb95-45e4-c4da-ba41dea7f1cf",
    "papermill": {
     "duration": 0.119446,
     "end_time": "2023-11-13T09:29:24.957618",
     "exception": false,
     "start_time": "2023-11-13T09:29:24.838172",
     "status": "completed"
    },
    "tags": []
   },
   "outputs": [
    {
     "data": {
      "text/html": [
       "<div>\n",
       "<style scoped>\n",
       "    .dataframe tbody tr th:only-of-type {\n",
       "        vertical-align: middle;\n",
       "    }\n",
       "\n",
       "    .dataframe tbody tr th {\n",
       "        vertical-align: top;\n",
       "    }\n",
       "\n",
       "    .dataframe thead th {\n",
       "        text-align: right;\n",
       "    }\n",
       "</style>\n",
       "<table border=\"1\" class=\"dataframe\">\n",
       "  <thead>\n",
       "    <tr style=\"text-align: right;\">\n",
       "      <th></th>\n",
       "      <th>Name</th>\n",
       "      <th>Year</th>\n",
       "      <th>Duration</th>\n",
       "      <th>Genre</th>\n",
       "      <th>Rating</th>\n",
       "      <th>Votes</th>\n",
       "      <th>Director</th>\n",
       "      <th>Actor 1</th>\n",
       "      <th>Actor 2</th>\n",
       "      <th>Actor 3</th>\n",
       "    </tr>\n",
       "  </thead>\n",
       "  <tbody>\n",
       "    <tr>\n",
       "      <th>0</th>\n",
       "      <td></td>\n",
       "      <td>NaN</td>\n",
       "      <td>NaN</td>\n",
       "      <td>Drama</td>\n",
       "      <td>NaN</td>\n",
       "      <td>NaN</td>\n",
       "      <td>J.S. Randhawa</td>\n",
       "      <td>Manmauji</td>\n",
       "      <td>Birbal</td>\n",
       "      <td>Rajendra Bhatia</td>\n",
       "    </tr>\n",
       "    <tr>\n",
       "      <th>1</th>\n",
       "      <td>#Gadhvi (He thought he was Gandhi)</td>\n",
       "      <td>(2019)</td>\n",
       "      <td>109 min</td>\n",
       "      <td>Drama</td>\n",
       "      <td>7.0</td>\n",
       "      <td>8</td>\n",
       "      <td>Gaurav Bakshi</td>\n",
       "      <td>Rasika Dugal</td>\n",
       "      <td>Vivek Ghamande</td>\n",
       "      <td>Arvind Jangid</td>\n",
       "    </tr>\n",
       "    <tr>\n",
       "      <th>2</th>\n",
       "      <td>#Homecoming</td>\n",
       "      <td>(2021)</td>\n",
       "      <td>90 min</td>\n",
       "      <td>Drama, Musical</td>\n",
       "      <td>NaN</td>\n",
       "      <td>NaN</td>\n",
       "      <td>Soumyajit Majumdar</td>\n",
       "      <td>Sayani Gupta</td>\n",
       "      <td>Plabita Borthakur</td>\n",
       "      <td>Roy Angana</td>\n",
       "    </tr>\n",
       "    <tr>\n",
       "      <th>3</th>\n",
       "      <td>#Yaaram</td>\n",
       "      <td>(2019)</td>\n",
       "      <td>110 min</td>\n",
       "      <td>Comedy, Romance</td>\n",
       "      <td>4.4</td>\n",
       "      <td>35</td>\n",
       "      <td>Ovais Khan</td>\n",
       "      <td>Prateik</td>\n",
       "      <td>Ishita Raj</td>\n",
       "      <td>Siddhant Kapoor</td>\n",
       "    </tr>\n",
       "    <tr>\n",
       "      <th>4</th>\n",
       "      <td>...And Once Again</td>\n",
       "      <td>(2010)</td>\n",
       "      <td>105 min</td>\n",
       "      <td>Drama</td>\n",
       "      <td>NaN</td>\n",
       "      <td>NaN</td>\n",
       "      <td>Amol Palekar</td>\n",
       "      <td>Rajat Kapoor</td>\n",
       "      <td>Rituparna Sengupta</td>\n",
       "      <td>Antara Mali</td>\n",
       "    </tr>\n",
       "  </tbody>\n",
       "</table>\n",
       "</div>"
      ],
      "text/plain": [
       "                                 Name    Year Duration            Genre  \\\n",
       "0                                         NaN      NaN            Drama   \n",
       "1  #Gadhvi (He thought he was Gandhi)  (2019)  109 min            Drama   \n",
       "2                         #Homecoming  (2021)   90 min   Drama, Musical   \n",
       "3                             #Yaaram  (2019)  110 min  Comedy, Romance   \n",
       "4                   ...And Once Again  (2010)  105 min            Drama   \n",
       "\n",
       "   Rating Votes            Director       Actor 1             Actor 2  \\\n",
       "0     NaN   NaN       J.S. Randhawa      Manmauji              Birbal   \n",
       "1     7.0     8       Gaurav Bakshi  Rasika Dugal      Vivek Ghamande   \n",
       "2     NaN   NaN  Soumyajit Majumdar  Sayani Gupta   Plabita Borthakur   \n",
       "3     4.4    35          Ovais Khan       Prateik          Ishita Raj   \n",
       "4     NaN   NaN        Amol Palekar  Rajat Kapoor  Rituparna Sengupta   \n",
       "\n",
       "           Actor 3  \n",
       "0  Rajendra Bhatia  \n",
       "1    Arvind Jangid  \n",
       "2       Roy Angana  \n",
       "3  Siddhant Kapoor  \n",
       "4      Antara Mali  "
      ]
     },
     "execution_count": 46,
     "metadata": {},
     "output_type": "execute_result"
    }
   ],
   "source": [
    "movie = pd.read_csv('IMDB movies india.csv', encoding='ISO-8859-1')\n",
    "movie.head()"
   ]
  },
  {
   "cell_type": "code",
   "execution_count": 47,
   "id": "f5290416",
   "metadata": {
    "execution": {
     "iopub.execute_input": "2023-11-13T09:29:24.977024Z",
     "iopub.status.busy": "2023-11-13T09:29:24.976611Z",
     "iopub.status.idle": "2023-11-13T09:29:24.983928Z",
     "shell.execute_reply": "2023-11-13T09:29:24.982735Z"
    },
    "id": "LzKniH5LQF1o",
    "outputId": "cca00f3f-b01e-4087-ada8-b4342abb94e5",
    "papermill": {
     "duration": 0.019947,
     "end_time": "2023-11-13T09:29:24.986504",
     "exception": false,
     "start_time": "2023-11-13T09:29:24.966557",
     "status": "completed"
    },
    "tags": []
   },
   "outputs": [
    {
     "data": {
      "text/plain": [
       "(15509, 10)"
      ]
     },
     "execution_count": 47,
     "metadata": {},
     "output_type": "execute_result"
    }
   ],
   "source": [
    "movie.shape"
   ]
  },
  {
   "cell_type": "code",
   "execution_count": 48,
   "id": "450d4104",
   "metadata": {
    "execution": {
     "iopub.execute_input": "2023-11-13T09:29:25.006610Z",
     "iopub.status.busy": "2023-11-13T09:29:25.005870Z",
     "iopub.status.idle": "2023-11-13T09:29:25.022353Z",
     "shell.execute_reply": "2023-11-13T09:29:25.021071Z"
    },
    "id": "LMxF1xCPXXsg",
    "outputId": "b1e12834-9789-44ad-a841-8898fba765c1",
    "papermill": {
     "duration": 0.02942,
     "end_time": "2023-11-13T09:29:25.025005",
     "exception": false,
     "start_time": "2023-11-13T09:29:24.995585",
     "status": "completed"
    },
    "tags": []
   },
   "outputs": [
    {
     "data": {
      "text/plain": [
       "<bound method DataFrame.info of                                      Name    Year Duration            Genre  \\\n",
       "0                                             NaN      NaN            Drama   \n",
       "1      #Gadhvi (He thought he was Gandhi)  (2019)  109 min            Drama   \n",
       "2                             #Homecoming  (2021)   90 min   Drama, Musical   \n",
       "3                                 #Yaaram  (2019)  110 min  Comedy, Romance   \n",
       "4                       ...And Once Again  (2010)  105 min            Drama   \n",
       "...                                   ...     ...      ...              ...   \n",
       "15504                 Zulm Ko Jala Doonga  (1988)      NaN           Action   \n",
       "15505                               Zulmi  (1999)  129 min    Action, Drama   \n",
       "15506                           Zulmi Raj  (2005)      NaN           Action   \n",
       "15507                       Zulmi Shikari  (1988)      NaN           Action   \n",
       "15508                        Zulm-O-Sitam  (1998)  130 min    Action, Drama   \n",
       "\n",
       "       Rating Votes            Director           Actor 1             Actor 2  \\\n",
       "0         NaN   NaN       J.S. Randhawa          Manmauji              Birbal   \n",
       "1         7.0     8       Gaurav Bakshi      Rasika Dugal      Vivek Ghamande   \n",
       "2         NaN   NaN  Soumyajit Majumdar      Sayani Gupta   Plabita Borthakur   \n",
       "3         4.4    35          Ovais Khan           Prateik          Ishita Raj   \n",
       "4         NaN   NaN        Amol Palekar      Rajat Kapoor  Rituparna Sengupta   \n",
       "...       ...   ...                 ...               ...                 ...   \n",
       "15504     4.6    11       Mahendra Shah  Naseeruddin Shah       Sumeet Saigal   \n",
       "15505     4.5   655          Kuku Kohli      Akshay Kumar      Twinkle Khanna   \n",
       "15506     NaN   NaN          Kiran Thej   Sangeeta Tiwari                 NaN   \n",
       "15507     NaN   NaN                 NaN               NaN                 NaN   \n",
       "15508     6.2    20        K.C. Bokadia        Dharmendra          Jaya Prada   \n",
       "\n",
       "               Actor 3  \n",
       "0      Rajendra Bhatia  \n",
       "1        Arvind Jangid  \n",
       "2           Roy Angana  \n",
       "3      Siddhant Kapoor  \n",
       "4          Antara Mali  \n",
       "...                ...  \n",
       "15504    Suparna Anand  \n",
       "15505      Aruna Irani  \n",
       "15506              NaN  \n",
       "15507              NaN  \n",
       "15508      Arjun Sarja  \n",
       "\n",
       "[15509 rows x 10 columns]>"
      ]
     },
     "execution_count": 48,
     "metadata": {},
     "output_type": "execute_result"
    }
   ],
   "source": [
    "movie.info"
   ]
  },
  {
   "cell_type": "code",
   "execution_count": 49,
   "id": "8f04dc60",
   "metadata": {
    "execution": {
     "iopub.execute_input": "2023-11-13T09:29:25.047108Z",
     "iopub.status.busy": "2023-11-13T09:29:25.046427Z",
     "iopub.status.idle": "2023-11-13T09:29:25.105434Z",
     "shell.execute_reply": "2023-11-13T09:29:25.103936Z"
    },
    "id": "gbxnRQg4ZItq",
    "outputId": "de0efa6d-a8f8-42d6-fcb0-160ef04fa41e",
    "papermill": {
     "duration": 0.0739,
     "end_time": "2023-11-13T09:29:25.108333",
     "exception": false,
     "start_time": "2023-11-13T09:29:25.034433",
     "status": "completed"
    },
    "tags": []
   },
   "outputs": [
    {
     "data": {
      "text/html": [
       "<div>\n",
       "<style scoped>\n",
       "    .dataframe tbody tr th:only-of-type {\n",
       "        vertical-align: middle;\n",
       "    }\n",
       "\n",
       "    .dataframe tbody tr th {\n",
       "        vertical-align: top;\n",
       "    }\n",
       "\n",
       "    .dataframe thead th {\n",
       "        text-align: right;\n",
       "    }\n",
       "</style>\n",
       "<table border=\"1\" class=\"dataframe\">\n",
       "  <thead>\n",
       "    <tr style=\"text-align: right;\">\n",
       "      <th></th>\n",
       "      <th>Name</th>\n",
       "      <th>Year</th>\n",
       "      <th>Duration</th>\n",
       "      <th>Genre</th>\n",
       "      <th>Rating</th>\n",
       "      <th>Votes</th>\n",
       "      <th>Director</th>\n",
       "      <th>Actor 1</th>\n",
       "      <th>Actor 2</th>\n",
       "      <th>Actor 3</th>\n",
       "    </tr>\n",
       "  </thead>\n",
       "  <tbody>\n",
       "    <tr>\n",
       "      <th>count</th>\n",
       "      <td>15509</td>\n",
       "      <td>14981</td>\n",
       "      <td>7240</td>\n",
       "      <td>13632</td>\n",
       "      <td>7919.000000</td>\n",
       "      <td>7920</td>\n",
       "      <td>14984</td>\n",
       "      <td>13892</td>\n",
       "      <td>13125</td>\n",
       "      <td>12365</td>\n",
       "    </tr>\n",
       "    <tr>\n",
       "      <th>unique</th>\n",
       "      <td>13838</td>\n",
       "      <td>102</td>\n",
       "      <td>182</td>\n",
       "      <td>485</td>\n",
       "      <td>NaN</td>\n",
       "      <td>2034</td>\n",
       "      <td>5938</td>\n",
       "      <td>4718</td>\n",
       "      <td>4891</td>\n",
       "      <td>4820</td>\n",
       "    </tr>\n",
       "    <tr>\n",
       "      <th>top</th>\n",
       "      <td>Anjaam</td>\n",
       "      <td>(2019)</td>\n",
       "      <td>120 min</td>\n",
       "      <td>Drama</td>\n",
       "      <td>NaN</td>\n",
       "      <td>8</td>\n",
       "      <td>Jayant Desai</td>\n",
       "      <td>Ashok Kumar</td>\n",
       "      <td>Rekha</td>\n",
       "      <td>Pran</td>\n",
       "    </tr>\n",
       "    <tr>\n",
       "      <th>freq</th>\n",
       "      <td>7</td>\n",
       "      <td>410</td>\n",
       "      <td>240</td>\n",
       "      <td>2780</td>\n",
       "      <td>NaN</td>\n",
       "      <td>227</td>\n",
       "      <td>58</td>\n",
       "      <td>158</td>\n",
       "      <td>83</td>\n",
       "      <td>91</td>\n",
       "    </tr>\n",
       "    <tr>\n",
       "      <th>mean</th>\n",
       "      <td>NaN</td>\n",
       "      <td>NaN</td>\n",
       "      <td>NaN</td>\n",
       "      <td>NaN</td>\n",
       "      <td>5.841621</td>\n",
       "      <td>NaN</td>\n",
       "      <td>NaN</td>\n",
       "      <td>NaN</td>\n",
       "      <td>NaN</td>\n",
       "      <td>NaN</td>\n",
       "    </tr>\n",
       "    <tr>\n",
       "      <th>std</th>\n",
       "      <td>NaN</td>\n",
       "      <td>NaN</td>\n",
       "      <td>NaN</td>\n",
       "      <td>NaN</td>\n",
       "      <td>1.381777</td>\n",
       "      <td>NaN</td>\n",
       "      <td>NaN</td>\n",
       "      <td>NaN</td>\n",
       "      <td>NaN</td>\n",
       "      <td>NaN</td>\n",
       "    </tr>\n",
       "    <tr>\n",
       "      <th>min</th>\n",
       "      <td>NaN</td>\n",
       "      <td>NaN</td>\n",
       "      <td>NaN</td>\n",
       "      <td>NaN</td>\n",
       "      <td>1.100000</td>\n",
       "      <td>NaN</td>\n",
       "      <td>NaN</td>\n",
       "      <td>NaN</td>\n",
       "      <td>NaN</td>\n",
       "      <td>NaN</td>\n",
       "    </tr>\n",
       "    <tr>\n",
       "      <th>25%</th>\n",
       "      <td>NaN</td>\n",
       "      <td>NaN</td>\n",
       "      <td>NaN</td>\n",
       "      <td>NaN</td>\n",
       "      <td>4.900000</td>\n",
       "      <td>NaN</td>\n",
       "      <td>NaN</td>\n",
       "      <td>NaN</td>\n",
       "      <td>NaN</td>\n",
       "      <td>NaN</td>\n",
       "    </tr>\n",
       "    <tr>\n",
       "      <th>50%</th>\n",
       "      <td>NaN</td>\n",
       "      <td>NaN</td>\n",
       "      <td>NaN</td>\n",
       "      <td>NaN</td>\n",
       "      <td>6.000000</td>\n",
       "      <td>NaN</td>\n",
       "      <td>NaN</td>\n",
       "      <td>NaN</td>\n",
       "      <td>NaN</td>\n",
       "      <td>NaN</td>\n",
       "    </tr>\n",
       "    <tr>\n",
       "      <th>75%</th>\n",
       "      <td>NaN</td>\n",
       "      <td>NaN</td>\n",
       "      <td>NaN</td>\n",
       "      <td>NaN</td>\n",
       "      <td>6.800000</td>\n",
       "      <td>NaN</td>\n",
       "      <td>NaN</td>\n",
       "      <td>NaN</td>\n",
       "      <td>NaN</td>\n",
       "      <td>NaN</td>\n",
       "    </tr>\n",
       "    <tr>\n",
       "      <th>max</th>\n",
       "      <td>NaN</td>\n",
       "      <td>NaN</td>\n",
       "      <td>NaN</td>\n",
       "      <td>NaN</td>\n",
       "      <td>10.000000</td>\n",
       "      <td>NaN</td>\n",
       "      <td>NaN</td>\n",
       "      <td>NaN</td>\n",
       "      <td>NaN</td>\n",
       "      <td>NaN</td>\n",
       "    </tr>\n",
       "  </tbody>\n",
       "</table>\n",
       "</div>"
      ],
      "text/plain": [
       "          Name    Year Duration  Genre       Rating Votes      Director  \\\n",
       "count    15509   14981     7240  13632  7919.000000  7920         14984   \n",
       "unique   13838     102      182    485          NaN  2034          5938   \n",
       "top     Anjaam  (2019)  120 min  Drama          NaN     8  Jayant Desai   \n",
       "freq         7     410      240   2780          NaN   227            58   \n",
       "mean       NaN     NaN      NaN    NaN     5.841621   NaN           NaN   \n",
       "std        NaN     NaN      NaN    NaN     1.381777   NaN           NaN   \n",
       "min        NaN     NaN      NaN    NaN     1.100000   NaN           NaN   \n",
       "25%        NaN     NaN      NaN    NaN     4.900000   NaN           NaN   \n",
       "50%        NaN     NaN      NaN    NaN     6.000000   NaN           NaN   \n",
       "75%        NaN     NaN      NaN    NaN     6.800000   NaN           NaN   \n",
       "max        NaN     NaN      NaN    NaN    10.000000   NaN           NaN   \n",
       "\n",
       "            Actor 1 Actor 2 Actor 3  \n",
       "count         13892   13125   12365  \n",
       "unique         4718    4891    4820  \n",
       "top     Ashok Kumar   Rekha    Pran  \n",
       "freq            158      83      91  \n",
       "mean            NaN     NaN     NaN  \n",
       "std             NaN     NaN     NaN  \n",
       "min             NaN     NaN     NaN  \n",
       "25%             NaN     NaN     NaN  \n",
       "50%             NaN     NaN     NaN  \n",
       "75%             NaN     NaN     NaN  \n",
       "max             NaN     NaN     NaN  "
      ]
     },
     "execution_count": 49,
     "metadata": {},
     "output_type": "execute_result"
    }
   ],
   "source": [
    "movie.describe(include='all')"
   ]
  },
  {
   "cell_type": "code",
   "execution_count": 50,
   "id": "d532dbe9",
   "metadata": {
    "execution": {
     "iopub.execute_input": "2023-11-13T09:29:25.128957Z",
     "iopub.status.busy": "2023-11-13T09:29:25.128475Z",
     "iopub.status.idle": "2023-11-13T09:29:25.144291Z",
     "shell.execute_reply": "2023-11-13T09:29:25.143324Z"
    },
    "id": "GIt5cAiMXehn",
    "outputId": "2cd55a2f-5ea7-4f27-f894-04282cce5859",
    "papermill": {
     "duration": 0.028561,
     "end_time": "2023-11-13T09:29:25.146451",
     "exception": false,
     "start_time": "2023-11-13T09:29:25.117890",
     "status": "completed"
    },
    "tags": []
   },
   "outputs": [
    {
     "data": {
      "text/plain": [
       "Name           0\n",
       "Year         528\n",
       "Duration    8269\n",
       "Genre       1877\n",
       "Rating      7590\n",
       "Votes       7589\n",
       "Director     525\n",
       "Actor 1     1617\n",
       "Actor 2     2384\n",
       "Actor 3     3144\n",
       "dtype: int64"
      ]
     },
     "execution_count": 50,
     "metadata": {},
     "output_type": "execute_result"
    }
   ],
   "source": [
    "movie.isnull().sum()"
   ]
  },
  {
   "cell_type": "code",
   "execution_count": 51,
   "id": "39d57d37",
   "metadata": {
    "execution": {
     "iopub.execute_input": "2023-11-13T09:29:25.167757Z",
     "iopub.status.busy": "2023-11-13T09:29:25.166445Z",
     "iopub.status.idle": "2023-11-13T09:29:25.197144Z",
     "shell.execute_reply": "2023-11-13T09:29:25.196249Z"
    },
    "id": "sNWZWL0kX2s-",
    "outputId": "25348c45-9620-4ac6-d76d-9001e6233e89",
    "papermill": {
     "duration": 0.043189,
     "end_time": "2023-11-13T09:29:25.199037",
     "exception": false,
     "start_time": "2023-11-13T09:29:25.155848",
     "status": "completed"
    },
    "tags": []
   },
   "outputs": [
    {
     "data": {
      "text/plain": [
       "False    13838\n",
       "dtype: int64"
      ]
     },
     "execution_count": 51,
     "metadata": {},
     "output_type": "execute_result"
    }
   ],
   "source": [
    "movie.drop_duplicates(subset='Name',inplace=True)\n",
    "movie.duplicated().value_counts()"
   ]
  },
  {
   "cell_type": "code",
   "execution_count": 52,
   "id": "b497998f",
   "metadata": {
    "execution": {
     "iopub.execute_input": "2023-11-13T09:29:25.219691Z",
     "iopub.status.busy": "2023-11-13T09:29:25.219218Z",
     "iopub.status.idle": "2023-11-13T09:29:25.239804Z",
     "shell.execute_reply": "2023-11-13T09:29:25.238593Z"
    },
    "id": "fKVJNKEKZdng",
    "outputId": "04392b17-2717-4db7-b8de-b615692a88cd",
    "papermill": {
     "duration": 0.033316,
     "end_time": "2023-11-13T09:29:25.241902",
     "exception": false,
     "start_time": "2023-11-13T09:29:25.208586",
     "status": "completed"
    },
    "tags": []
   },
   "outputs": [
    {
     "data": {
      "text/html": [
       "<div>\n",
       "<style scoped>\n",
       "    .dataframe tbody tr th:only-of-type {\n",
       "        vertical-align: middle;\n",
       "    }\n",
       "\n",
       "    .dataframe tbody tr th {\n",
       "        vertical-align: top;\n",
       "    }\n",
       "\n",
       "    .dataframe thead th {\n",
       "        text-align: right;\n",
       "    }\n",
       "</style>\n",
       "<table border=\"1\" class=\"dataframe\">\n",
       "  <thead>\n",
       "    <tr style=\"text-align: right;\">\n",
       "      <th></th>\n",
       "      <th>Name</th>\n",
       "      <th>Year</th>\n",
       "      <th>Duration</th>\n",
       "      <th>Genre</th>\n",
       "      <th>Rating</th>\n",
       "      <th>Votes</th>\n",
       "      <th>Director</th>\n",
       "      <th>Actor 1</th>\n",
       "      <th>Actor 2</th>\n",
       "      <th>Actor 3</th>\n",
       "    </tr>\n",
       "  </thead>\n",
       "  <tbody>\n",
       "    <tr>\n",
       "      <th>0</th>\n",
       "      <td>#Gadhvi (He thought he was Gandhi)</td>\n",
       "      <td>(2019)</td>\n",
       "      <td>109 min</td>\n",
       "      <td>Drama</td>\n",
       "      <td>7.0</td>\n",
       "      <td>8</td>\n",
       "      <td>Gaurav Bakshi</td>\n",
       "      <td>Rasika Dugal</td>\n",
       "      <td>Vivek Ghamande</td>\n",
       "      <td>Arvind Jangid</td>\n",
       "    </tr>\n",
       "    <tr>\n",
       "      <th>1</th>\n",
       "      <td>#Homecoming</td>\n",
       "      <td>(2021)</td>\n",
       "      <td>90 min</td>\n",
       "      <td>Drama, Musical</td>\n",
       "      <td>NaN</td>\n",
       "      <td>NaN</td>\n",
       "      <td>Soumyajit Majumdar</td>\n",
       "      <td>Sayani Gupta</td>\n",
       "      <td>Plabita Borthakur</td>\n",
       "      <td>Roy Angana</td>\n",
       "    </tr>\n",
       "    <tr>\n",
       "      <th>2</th>\n",
       "      <td>#Yaaram</td>\n",
       "      <td>(2019)</td>\n",
       "      <td>110 min</td>\n",
       "      <td>Comedy, Romance</td>\n",
       "      <td>4.4</td>\n",
       "      <td>35</td>\n",
       "      <td>Ovais Khan</td>\n",
       "      <td>Prateik</td>\n",
       "      <td>Ishita Raj</td>\n",
       "      <td>Siddhant Kapoor</td>\n",
       "    </tr>\n",
       "    <tr>\n",
       "      <th>3</th>\n",
       "      <td>...And Once Again</td>\n",
       "      <td>(2010)</td>\n",
       "      <td>105 min</td>\n",
       "      <td>Drama</td>\n",
       "      <td>NaN</td>\n",
       "      <td>NaN</td>\n",
       "      <td>Amol Palekar</td>\n",
       "      <td>Rajat Kapoor</td>\n",
       "      <td>Rituparna Sengupta</td>\n",
       "      <td>Antara Mali</td>\n",
       "    </tr>\n",
       "    <tr>\n",
       "      <th>4</th>\n",
       "      <td>...Aur Pyaar Ho Gaya</td>\n",
       "      <td>(1997)</td>\n",
       "      <td>147 min</td>\n",
       "      <td>Comedy, Drama, Musical</td>\n",
       "      <td>4.7</td>\n",
       "      <td>827</td>\n",
       "      <td>Rahul Rawail</td>\n",
       "      <td>Bobby Deol</td>\n",
       "      <td>Aishwarya Rai Bachchan</td>\n",
       "      <td>Shammi Kapoor</td>\n",
       "    </tr>\n",
       "  </tbody>\n",
       "</table>\n",
       "</div>"
      ],
      "text/plain": [
       "                                 Name    Year Duration  \\\n",
       "0  #Gadhvi (He thought he was Gandhi)  (2019)  109 min   \n",
       "1                         #Homecoming  (2021)   90 min   \n",
       "2                             #Yaaram  (2019)  110 min   \n",
       "3                   ...And Once Again  (2010)  105 min   \n",
       "4                ...Aur Pyaar Ho Gaya  (1997)  147 min   \n",
       "\n",
       "                    Genre  Rating Votes            Director       Actor 1  \\\n",
       "0                   Drama     7.0     8       Gaurav Bakshi  Rasika Dugal   \n",
       "1          Drama, Musical     NaN   NaN  Soumyajit Majumdar  Sayani Gupta   \n",
       "2         Comedy, Romance     4.4    35          Ovais Khan       Prateik   \n",
       "3                   Drama     NaN   NaN        Amol Palekar  Rajat Kapoor   \n",
       "4  Comedy, Drama, Musical     4.7   827        Rahul Rawail    Bobby Deol   \n",
       "\n",
       "                  Actor 2          Actor 3  \n",
       "0          Vivek Ghamande    Arvind Jangid  \n",
       "1       Plabita Borthakur       Roy Angana  \n",
       "2              Ishita Raj  Siddhant Kapoor  \n",
       "3      Rituparna Sengupta      Antara Mali  \n",
       "4  Aishwarya Rai Bachchan    Shammi Kapoor  "
      ]
     },
     "execution_count": 52,
     "metadata": {},
     "output_type": "execute_result"
    }
   ],
   "source": [
    "movie = movie.drop(movie.index[0]).reset_index(drop=True)\n",
    "movie.head()"
   ]
  },
  {
   "cell_type": "code",
   "execution_count": 53,
   "id": "a8443358",
   "metadata": {
    "execution": {
     "iopub.execute_input": "2023-11-13T09:29:25.263291Z",
     "iopub.status.busy": "2023-11-13T09:29:25.262932Z",
     "iopub.status.idle": "2023-11-13T09:29:25.275583Z",
     "shell.execute_reply": "2023-11-13T09:29:25.274908Z"
    },
    "id": "hIk-nHqIZ9UH",
    "outputId": "ea7ef5ff-a391-42d1-db5b-86e9da6e7b8e",
    "papermill": {
     "duration": 0.025328,
     "end_time": "2023-11-13T09:29:25.277220",
     "exception": false,
     "start_time": "2023-11-13T09:29:25.251892",
     "status": "completed"
    },
    "tags": []
   },
   "outputs": [
    {
     "data": {
      "text/plain": [
       "Duration    0.523090\n",
       "Rating      0.483053\n",
       "Votes       0.482980\n",
       "Actor 3     0.202717\n",
       "Actor 2     0.154080\n",
       "Genre       0.114909\n",
       "Actor 1     0.103997\n",
       "Year        0.035918\n",
       "Director    0.033606\n",
       "Name        0.000000\n",
       "dtype: float64"
      ]
     },
     "execution_count": 53,
     "metadata": {},
     "output_type": "execute_result"
    }
   ],
   "source": [
    "movie.isnull().sum().sort_values(ascending=False)/len(movie)"
   ]
  },
  {
   "cell_type": "code",
   "execution_count": 54,
   "id": "ed5ec9f1",
   "metadata": {
    "execution": {
     "iopub.execute_input": "2023-11-13T09:29:25.298789Z",
     "iopub.status.busy": "2023-11-13T09:29:25.298069Z",
     "iopub.status.idle": "2023-11-13T09:29:25.304029Z",
     "shell.execute_reply": "2023-11-13T09:29:25.302549Z"
    },
    "id": "smSbWrLpZ_73",
    "outputId": "3113a2b5-e5d1-419f-de51-45f2bded169f",
    "papermill": {
     "duration": 0.019411,
     "end_time": "2023-11-13T09:29:25.306173",
     "exception": false,
     "start_time": "2023-11-13T09:29:25.286762",
     "status": "completed"
    },
    "tags": []
   },
   "outputs": [
    {
     "name": "stdout",
     "output_type": "stream",
     "text": [
      "Number of rows: 13837\n",
      "Number of columns: 10\n"
     ]
    }
   ],
   "source": [
    "print(\"Number of rows:\", movie.shape[0])\n",
    "print(\"Number of columns:\", movie.shape[1])"
   ]
  },
  {
   "cell_type": "code",
   "execution_count": 55,
   "id": "0c8bce89",
   "metadata": {
    "execution": {
     "iopub.execute_input": "2023-11-13T09:29:25.328427Z",
     "iopub.status.busy": "2023-11-13T09:29:25.327145Z",
     "iopub.status.idle": "2023-11-13T09:29:25.903357Z",
     "shell.execute_reply": "2023-11-13T09:29:25.902046Z"
    },
    "id": "CVlsg9HfcFsZ",
    "outputId": "f450142c-1c0e-4bee-c0b8-cfd4a65a8bdb",
    "papermill": {
     "duration": 0.589903,
     "end_time": "2023-11-13T09:29:25.905886",
     "exception": false,
     "start_time": "2023-11-13T09:29:25.315983",
     "status": "completed"
    },
    "tags": []
   },
   "outputs": [
    {
     "data": {
      "image/png": "[encoded data removed]",
      "text/plain": [
       "<Figure size 432x288 with 2 Axes>"
      ]
     },
     "metadata": {
      "needs_background": "light"
     },
     "output_type": "display_data"
    }
   ],
   "source": [
    "sns.heatmap(movie.isnull())\n",
    "\n",
    "# Plot Title\n",
    "plt.title(\"Missing Values IMDb Indian Movie Dataset\",\n",
    "          fontsize=14,\n",
    "          fontweight='bold')\n",
    "\n",
    "# Title for x and y-axis labels with formatting\n",
    "plt.xlabel(\"Number of Columns\",\n",
    "           fontweight='bold')\n",
    "plt.ylabel(\"Number of Rows\",\n",
    "           fontweight='bold')\n",
    "plt.show()"
   ]
  },
  {
   "cell_type": "code",
   "execution_count": 56,
   "id": "d1c8eaa7",
   "metadata": {
    "execution": {
     "iopub.execute_input": "2023-11-13T09:29:25.929295Z",
     "iopub.status.busy": "2023-11-13T09:29:25.928855Z",
     "iopub.status.idle": "2023-11-13T09:29:25.950801Z",
     "shell.execute_reply": "2023-11-13T09:29:25.949871Z"
    },
    "id": "I0B5l9dvctkP",
    "outputId": "27dd389d-1d6a-4556-bb1e-b7b04817d0a3",
    "papermill": {
     "duration": 0.03625,
     "end_time": "2023-11-13T09:29:25.952862",
     "exception": false,
     "start_time": "2023-11-13T09:29:25.916612",
     "status": "completed"
    },
    "tags": []
   },
   "outputs": [
    {
     "data": {
      "text/plain": [
       "(13837, 10)"
      ]
     },
     "execution_count": 56,
     "metadata": {},
     "output_type": "execute_result"
    }
   ],
   "source": [
    "movie.drop_duplicates(inplace=True)\n",
    "movie.shape"
   ]
  },
  {
   "cell_type": "code",
   "execution_count": 57,
   "id": "06bd9208",
   "metadata": {
    "execution": {
     "iopub.execute_input": "2023-11-13T09:29:25.988419Z",
     "iopub.status.busy": "2023-11-13T09:29:25.987609Z",
     "iopub.status.idle": "2023-11-13T09:29:26.004926Z",
     "shell.execute_reply": "2023-11-13T09:29:26.003670Z"
    },
    "id": "0h7--mECTE2M",
    "outputId": "cdc10f48-3aaf-4cf1-eefe-0eb704a30aa4",
    "papermill": {
     "duration": 0.039967,
     "end_time": "2023-11-13T09:29:26.006908",
     "exception": false,
     "start_time": "2023-11-13T09:29:25.966941",
     "status": "completed"
    },
    "tags": []
   },
   "outputs": [
    {
     "data": {
      "text/html": [
       "<div>\n",
       "<style scoped>\n",
       "    .dataframe tbody tr th:only-of-type {\n",
       "        vertical-align: middle;\n",
       "    }\n",
       "\n",
       "    .dataframe tbody tr th {\n",
       "        vertical-align: top;\n",
       "    }\n",
       "\n",
       "    .dataframe thead th {\n",
       "        text-align: right;\n",
       "    }\n",
       "</style>\n",
       "<table border=\"1\" class=\"dataframe\">\n",
       "  <thead>\n",
       "    <tr style=\"text-align: right;\">\n",
       "      <th></th>\n",
       "      <th>Name</th>\n",
       "      <th>Year</th>\n",
       "      <th>Duration</th>\n",
       "      <th>Genre</th>\n",
       "      <th>Rating</th>\n",
       "      <th>Votes</th>\n",
       "      <th>Director</th>\n",
       "      <th>Actor 1</th>\n",
       "      <th>Actor 2</th>\n",
       "      <th>Actor 3</th>\n",
       "    </tr>\n",
       "  </thead>\n",
       "  <tbody>\n",
       "    <tr>\n",
       "      <th>0</th>\n",
       "      <td>#Gadhvi (He thought he was Gandhi)</td>\n",
       "      <td>(2019)</td>\n",
       "      <td>109 min</td>\n",
       "      <td>Drama</td>\n",
       "      <td>7.0</td>\n",
       "      <td>8</td>\n",
       "      <td>Gaurav Bakshi</td>\n",
       "      <td>Rasika Dugal</td>\n",
       "      <td>Vivek Ghamande</td>\n",
       "      <td>Arvind Jangid</td>\n",
       "    </tr>\n",
       "    <tr>\n",
       "      <th>1</th>\n",
       "      <td>#Homecoming</td>\n",
       "      <td>(2021)</td>\n",
       "      <td>90 min</td>\n",
       "      <td>Drama, Musical</td>\n",
       "      <td>NaN</td>\n",
       "      <td>NaN</td>\n",
       "      <td>Soumyajit Majumdar</td>\n",
       "      <td>Sayani Gupta</td>\n",
       "      <td>Plabita Borthakur</td>\n",
       "      <td>Roy Angana</td>\n",
       "    </tr>\n",
       "    <tr>\n",
       "      <th>2</th>\n",
       "      <td>#Yaaram</td>\n",
       "      <td>(2019)</td>\n",
       "      <td>110 min</td>\n",
       "      <td>Comedy, Romance</td>\n",
       "      <td>4.4</td>\n",
       "      <td>35</td>\n",
       "      <td>Ovais Khan</td>\n",
       "      <td>Prateik</td>\n",
       "      <td>Ishita Raj</td>\n",
       "      <td>Siddhant Kapoor</td>\n",
       "    </tr>\n",
       "    <tr>\n",
       "      <th>3</th>\n",
       "      <td>...And Once Again</td>\n",
       "      <td>(2010)</td>\n",
       "      <td>105 min</td>\n",
       "      <td>Drama</td>\n",
       "      <td>NaN</td>\n",
       "      <td>NaN</td>\n",
       "      <td>Amol Palekar</td>\n",
       "      <td>Rajat Kapoor</td>\n",
       "      <td>Rituparna Sengupta</td>\n",
       "      <td>Antara Mali</td>\n",
       "    </tr>\n",
       "    <tr>\n",
       "      <th>4</th>\n",
       "      <td>...Aur Pyaar Ho Gaya</td>\n",
       "      <td>(1997)</td>\n",
       "      <td>147 min</td>\n",
       "      <td>Comedy, Drama, Musical</td>\n",
       "      <td>4.7</td>\n",
       "      <td>827</td>\n",
       "      <td>Rahul Rawail</td>\n",
       "      <td>Bobby Deol</td>\n",
       "      <td>Aishwarya Rai Bachchan</td>\n",
       "      <td>Shammi Kapoor</td>\n",
       "    </tr>\n",
       "  </tbody>\n",
       "</table>\n",
       "</div>"
      ],
      "text/plain": [
       "                                 Name    Year Duration  \\\n",
       "0  #Gadhvi (He thought he was Gandhi)  (2019)  109 min   \n",
       "1                         #Homecoming  (2021)   90 min   \n",
       "2                             #Yaaram  (2019)  110 min   \n",
       "3                   ...And Once Again  (2010)  105 min   \n",
       "4                ...Aur Pyaar Ho Gaya  (1997)  147 min   \n",
       "\n",
       "                    Genre  Rating Votes            Director       Actor 1  \\\n",
       "0                   Drama     7.0     8       Gaurav Bakshi  Rasika Dugal   \n",
       "1          Drama, Musical     NaN   NaN  Soumyajit Majumdar  Sayani Gupta   \n",
       "2         Comedy, Romance     4.4    35          Ovais Khan       Prateik   \n",
       "3                   Drama     NaN   NaN        Amol Palekar  Rajat Kapoor   \n",
       "4  Comedy, Drama, Musical     4.7   827        Rahul Rawail    Bobby Deol   \n",
       "\n",
       "                  Actor 2          Actor 3  \n",
       "0          Vivek Ghamande    Arvind Jangid  \n",
       "1       Plabita Borthakur       Roy Angana  \n",
       "2              Ishita Raj  Siddhant Kapoor  \n",
       "3      Rituparna Sengupta      Antara Mali  \n",
       "4  Aishwarya Rai Bachchan    Shammi Kapoor  "
      ]
     },
     "execution_count": 57,
     "metadata": {},
     "output_type": "execute_result"
    }
   ],
   "source": [
    "movie.head()"
   ]
  },
  {
   "cell_type": "code",
   "execution_count": 58,
   "id": "f253a246",
   "metadata": {
    "execution": {
     "iopub.execute_input": "2023-11-13T09:29:26.032149Z",
     "iopub.status.busy": "2023-11-13T09:29:26.031360Z",
     "iopub.status.idle": "2023-11-13T09:29:26.046268Z",
     "shell.execute_reply": "2023-11-13T09:29:26.045053Z"
    },
    "id": "Wrh6o_bSTMU0",
    "outputId": "404d30c2-5689-4d80-8016-67e1b81029f6",
    "papermill": {
     "duration": 0.030216,
     "end_time": "2023-11-13T09:29:26.048851",
     "exception": false,
     "start_time": "2023-11-13T09:29:26.018635",
     "status": "completed"
    },
    "tags": []
   },
   "outputs": [
    {
     "data": {
      "text/plain": [
       "Name           0\n",
       "Year         497\n",
       "Duration    7238\n",
       "Genre       1590\n",
       "Rating      6684\n",
       "Votes       6683\n",
       "Director     465\n",
       "Actor 1     1439\n",
       "Actor 2     2132\n",
       "Actor 3     2805\n",
       "dtype: int64"
      ]
     },
     "execution_count": 58,
     "metadata": {},
     "output_type": "execute_result"
    }
   ],
   "source": [
    "movie.isnull().sum()"
   ]
  },
  {
   "cell_type": "code",
   "execution_count": 59,
   "id": "b7aa7c4e",
   "metadata": {
    "execution": {
     "iopub.execute_input": "2023-11-13T09:29:26.080059Z",
     "iopub.status.busy": "2023-11-13T09:29:26.078720Z",
     "iopub.status.idle": "2023-11-13T09:29:26.108722Z",
     "shell.execute_reply": "2023-11-13T09:29:26.107863Z"
    },
    "id": "_qgryygGTVI-",
    "outputId": "42c6b2a3-5767-4d7d-e36c-1787478cd39a",
    "papermill": {
     "duration": 0.047993,
     "end_time": "2023-11-13T09:29:26.111123",
     "exception": false,
     "start_time": "2023-11-13T09:29:26.063130",
     "status": "completed"
    },
    "tags": []
   },
   "outputs": [
    {
     "data": {
      "text/html": [
       "<div>\n",
       "<style scoped>\n",
       "    .dataframe tbody tr th:only-of-type {\n",
       "        vertical-align: middle;\n",
       "    }\n",
       "\n",
       "    .dataframe tbody tr th {\n",
       "        vertical-align: top;\n",
       "    }\n",
       "\n",
       "    .dataframe thead th {\n",
       "        text-align: right;\n",
       "    }\n",
       "</style>\n",
       "<table border=\"1\" class=\"dataframe\">\n",
       "  <thead>\n",
       "    <tr style=\"text-align: right;\">\n",
       "      <th></th>\n",
       "      <th>missing_count</th>\n",
       "      <th>missing_percent</th>\n",
       "    </tr>\n",
       "  </thead>\n",
       "  <tbody>\n",
       "    <tr>\n",
       "      <th>Duration</th>\n",
       "      <td>7238</td>\n",
       "      <td>52.31</td>\n",
       "    </tr>\n",
       "    <tr>\n",
       "      <th>Rating</th>\n",
       "      <td>6684</td>\n",
       "      <td>48.31</td>\n",
       "    </tr>\n",
       "    <tr>\n",
       "      <th>Votes</th>\n",
       "      <td>6683</td>\n",
       "      <td>48.30</td>\n",
       "    </tr>\n",
       "    <tr>\n",
       "      <th>Actor 3</th>\n",
       "      <td>2805</td>\n",
       "      <td>20.27</td>\n",
       "    </tr>\n",
       "    <tr>\n",
       "      <th>Actor 2</th>\n",
       "      <td>2132</td>\n",
       "      <td>15.41</td>\n",
       "    </tr>\n",
       "    <tr>\n",
       "      <th>Genre</th>\n",
       "      <td>1590</td>\n",
       "      <td>11.49</td>\n",
       "    </tr>\n",
       "    <tr>\n",
       "      <th>Actor 1</th>\n",
       "      <td>1439</td>\n",
       "      <td>10.40</td>\n",
       "    </tr>\n",
       "    <tr>\n",
       "      <th>Year</th>\n",
       "      <td>497</td>\n",
       "      <td>3.59</td>\n",
       "    </tr>\n",
       "    <tr>\n",
       "      <th>Director</th>\n",
       "      <td>465</td>\n",
       "      <td>3.36</td>\n",
       "    </tr>\n",
       "    <tr>\n",
       "      <th>Name</th>\n",
       "      <td>0</td>\n",
       "      <td>0.00</td>\n",
       "    </tr>\n",
       "  </tbody>\n",
       "</table>\n",
       "</div>"
      ],
      "text/plain": [
       "          missing_count  missing_percent\n",
       "Duration           7238            52.31\n",
       "Rating             6684            48.31\n",
       "Votes              6683            48.30\n",
       "Actor 3            2805            20.27\n",
       "Actor 2            2132            15.41\n",
       "Genre              1590            11.49\n",
       "Actor 1            1439            10.40\n",
       "Year                497             3.59\n",
       "Director            465             3.36\n",
       "Name                  0             0.00"
      ]
     },
     "execution_count": 59,
     "metadata": {},
     "output_type": "execute_result"
    }
   ],
   "source": [
    "missing_count = movie.isnull().sum().sort_values(ascending=False)\n",
    "missing_percent = (round(movie.isnull().sum()/movie.isnull().count(), 4)*100).sort_values(ascending=False)\n",
    "missing_data = pd.concat([missing_count, missing_percent],\n",
    "                       axis=1,\n",
    "                       keys=['missing_count', 'missing_percent'])\n",
    "missing_data"
   ]
  },
  {
   "cell_type": "code",
   "execution_count": 60,
   "id": "614f4dac",
   "metadata": {
    "execution": {
     "iopub.execute_input": "2023-11-13T09:29:26.220577Z",
     "iopub.status.busy": "2023-11-13T09:29:26.219627Z",
     "iopub.status.idle": "2023-11-13T09:29:26.240312Z",
     "shell.execute_reply": "2023-11-13T09:29:26.239418Z"
    },
    "id": "9_PmM0z8T8SE",
    "outputId": "0d519c0d-1d33-4d4e-c31d-d30d72599e92",
    "papermill": {
     "duration": 0.037495,
     "end_time": "2023-11-13T09:29:26.242430",
     "exception": false,
     "start_time": "2023-11-13T09:29:26.204935",
     "status": "completed"
    },
    "tags": []
   },
   "outputs": [
    {
     "data": {
      "text/plain": [
       "Duration    25.43\n",
       "Actor 3      3.89\n",
       "Actor 2      2.66\n",
       "Actor 1      1.66\n",
       "Genre        1.20\n",
       "Director     0.04\n",
       "Name         0.00\n",
       "Year         0.00\n",
       "Rating       0.00\n",
       "Votes        0.00\n",
       "dtype: float64"
      ]
     },
     "execution_count": 60,
     "metadata": {},
     "output_type": "execute_result"
    }
   ],
   "source": [
    "movie.dropna(subset=['Rating'], inplace=True)\n",
    "(round(movie.isnull().sum()/movie.isnull().count(), 4)*100).sort_values(ascending=False)"
   ]
  },
  {
   "cell_type": "code",
   "execution_count": 61,
   "id": "9f9ea56c",
   "metadata": {
    "execution": {
     "iopub.execute_input": "2023-11-13T09:29:26.271784Z",
     "iopub.status.busy": "2023-11-13T09:29:26.271027Z",
     "iopub.status.idle": "2023-11-13T09:29:26.282443Z",
     "shell.execute_reply": "2023-11-13T09:29:26.281715Z"
    },
    "id": "nbrXGZbbUMu1",
    "outputId": "fd82671a-0e94-4b31-a891-90b71366eeb9",
    "papermill": {
     "duration": 0.027255,
     "end_time": "2023-11-13T09:29:26.284292",
     "exception": false,
     "start_time": "2023-11-13T09:29:26.257037",
     "status": "completed"
    },
    "tags": []
   },
   "outputs": [
    {
     "data": {
      "text/plain": [
       "Name           0\n",
       "Year           0\n",
       "Duration    1819\n",
       "Genre         86\n",
       "Rating         0\n",
       "Votes          0\n",
       "Director       3\n",
       "Actor 1      119\n",
       "Actor 2      190\n",
       "Actor 3      278\n",
       "dtype: int64"
      ]
     },
     "execution_count": 61,
     "metadata": {},
     "output_type": "execute_result"
    }
   ],
   "source": [
    "movie.isnull().sum()"
   ]
  },
  {
   "cell_type": "code",
   "execution_count": 62,
   "id": "8c6b8f83",
   "metadata": {
    "execution": {
     "iopub.execute_input": "2023-11-13T09:29:26.310567Z",
     "iopub.status.busy": "2023-11-13T09:29:26.309826Z",
     "iopub.status.idle": "2023-11-13T09:29:26.334142Z",
     "shell.execute_reply": "2023-11-13T09:29:26.332193Z"
    },
    "id": "kcYY7mXDUROl",
    "outputId": "88058d99-503a-46e2-e5f5-8b6a966524a0",
    "papermill": {
     "duration": 0.039946,
     "end_time": "2023-11-13T09:29:26.336241",
     "exception": false,
     "start_time": "2023-11-13T09:29:26.296295",
     "status": "completed"
    },
    "tags": []
   },
   "outputs": [
    {
     "data": {
      "text/plain": [
       "Duration    24.44\n",
       "Name         0.00\n",
       "Year         0.00\n",
       "Genre        0.00\n",
       "Rating       0.00\n",
       "Votes        0.00\n",
       "Director     0.00\n",
       "Actor 1      0.00\n",
       "Actor 2      0.00\n",
       "Actor 3      0.00\n",
       "dtype: float64"
      ]
     },
     "execution_count": 62,
     "metadata": {},
     "output_type": "execute_result"
    }
   ],
   "source": [
    "movie.dropna(subset=['Director', 'Actor 1', 'Actor 2', 'Actor 3', 'Genre'], inplace=True)\n",
    "\n",
    "(round(movie.isnull().sum()/movie.isnull().count(), 4)*100).sort_values(ascending=False)"
   ]
  },
  {
   "cell_type": "code",
   "execution_count": 63,
   "id": "10f9bc23",
   "metadata": {
    "execution": {
     "iopub.execute_input": "2023-11-13T09:29:26.363483Z",
     "iopub.status.busy": "2023-11-13T09:29:26.362781Z",
     "iopub.status.idle": "2023-11-13T09:29:26.385989Z",
     "shell.execute_reply": "2023-11-13T09:29:26.385259Z"
    },
    "id": "iDDIkusjU62x",
    "outputId": "7e899669-7c8f-402b-db4c-b4648a9072c6",
    "papermill": {
     "duration": 0.037255,
     "end_time": "2023-11-13T09:29:26.387621",
     "exception": false,
     "start_time": "2023-11-13T09:29:26.350366",
     "status": "completed"
    },
    "tags": []
   },
   "outputs": [
    {
     "data": {
      "text/plain": [
       "Name        0\n",
       "Year        0\n",
       "Duration    0\n",
       "Genre       0\n",
       "Rating      0\n",
       "Votes       0\n",
       "Director    0\n",
       "Actor 1     0\n",
       "Actor 2     0\n",
       "Actor 3     0\n",
       "dtype: int64"
      ]
     },
     "execution_count": 63,
     "metadata": {},
     "output_type": "execute_result"
    }
   ],
   "source": [
    "movie['Duration'] = movie['Duration'].astype(str)\n",
    "movie['Duration'] = pd.to_numeric(movie['Duration'].str.replace(' min', ''), errors='coerce')\n",
    "movie['Duration'].fillna(movie['Duration'].mean(), \n",
    "                         inplace=True)\n",
    "\n",
    "movie.isnull().sum()"
   ]
  },
  {
   "cell_type": "code",
   "execution_count": 64,
   "id": "12e8a311",
   "metadata": {
    "execution": {
     "iopub.execute_input": "2023-11-13T09:29:26.412850Z",
     "iopub.status.busy": "2023-11-13T09:29:26.412138Z",
     "iopub.status.idle": "2023-11-13T09:29:26.417473Z",
     "shell.execute_reply": "2023-11-13T09:29:26.416850Z"
    },
    "id": "F8Hg6zDzVCoM",
    "outputId": "eda6071f-30c6-48d9-a067-e1ddd3113704",
    "papermill": {
     "duration": 0.019964,
     "end_time": "2023-11-13T09:29:26.419595",
     "exception": false,
     "start_time": "2023-11-13T09:29:26.399631",
     "status": "completed"
    },
    "tags": []
   },
   "outputs": [
    {
     "data": {
      "text/plain": [
       "(6813, 10)"
      ]
     },
     "execution_count": 64,
     "metadata": {},
     "output_type": "execute_result"
    }
   ],
   "source": [
    "movie.shape"
   ]
  },
  {
   "cell_type": "code",
   "execution_count": 24,
   "id": "ba73f42f",
   "metadata": {
    "execution": {
     "iopub.execute_input": "2023-11-13T09:29:26.446441Z",
     "iopub.status.busy": "2023-11-13T09:29:26.445721Z",
     "iopub.status.idle": "2023-11-13T09:29:26.463052Z",
     "shell.execute_reply": "2023-11-13T09:29:26.461943Z"
    },
    "id": "5pkqpWqmVEJ0",
    "papermill": {
     "duration": 0.033095,
     "end_time": "2023-11-13T09:29:26.465390",
     "exception": false,
     "start_time": "2023-11-13T09:29:26.432295",
     "status": "completed"
    },
    "tags": []
   },
   "outputs": [],
   "source": [
    "movie['Year'] = movie['Year'].apply(lambda x: x.split(')')[0])\n",
    "\n",
    "year_lst = []\n",
    "for val in movie['Year']:\n",
    "    if len(val.split('(')) == 1:\n",
    "        year_lst.append(val.split('(')[0])\n",
    "    elif len(val.split('(')) > 1:\n",
    "        year_lst.append(val.split('(')[1])\n",
    "movie['Year'] = year_lst"
   ]
  },
  {
   "cell_type": "code",
   "execution_count": 25,
   "id": "039df53a",
   "metadata": {
    "execution": {
     "iopub.execute_input": "2023-11-13T09:29:26.492208Z",
     "iopub.status.busy": "2023-11-13T09:29:26.491790Z",
     "iopub.status.idle": "2023-11-13T09:29:26.504277Z",
     "shell.execute_reply": "2023-11-13T09:29:26.502934Z"
    },
    "id": "RgeYi4HqVUiU",
    "outputId": "92281344-3def-4c92-8a54-8e534d59b639",
    "papermill": {
     "duration": 0.027621,
     "end_time": "2023-11-13T09:29:26.506080",
     "exception": false,
     "start_time": "2023-11-13T09:29:26.478459",
     "status": "completed"
    },
    "tags": []
   },
   "outputs": [
    {
     "name": "stdout",
     "output_type": "stream",
     "text": [
      "object\n",
      "int32\n"
     ]
    }
   ],
   "source": [
    "# Check the data type of the 'Votes' column\n",
    "print(movie['Votes'].dtype)\n",
    "\n",
    "# If it's not already a string, convert it to string with commas\n",
    "movie['Votes'] = movie['Votes'].astype(str)\n",
    "\n",
    "# Replace commas and convert to int\n",
    "movie['Votes'] = movie['Votes'].str.replace(',', '').astype(int)\n",
    "\n",
    "# Check the data type after conversion\n",
    "print(movie['Votes'].dtype)"
   ]
  },
  {
   "cell_type": "code",
   "execution_count": 26,
   "id": "1a0eabb8",
   "metadata": {
    "execution": {
     "iopub.execute_input": "2023-11-13T09:29:26.531361Z",
     "iopub.status.busy": "2023-11-13T09:29:26.530242Z",
     "iopub.status.idle": "2023-11-13T09:29:26.551335Z",
     "shell.execute_reply": "2023-11-13T09:29:26.550291Z"
    },
    "id": "fZJzo0JHVlKC",
    "outputId": "217bdcea-dc05-4eec-82d6-15abc6bceed1",
    "papermill": {
     "duration": 0.035737,
     "end_time": "2023-11-13T09:29:26.553284",
     "exception": false,
     "start_time": "2023-11-13T09:29:26.517547",
     "status": "completed"
    },
    "tags": []
   },
   "outputs": [
    {
     "name": "stdout",
     "output_type": "stream",
     "text": [
      "<class 'pandas.core.frame.DataFrame'>\n",
      "Int64Index: 6813 entries, 0 to 13836\n",
      "Data columns (total 10 columns):\n",
      " #   Column    Non-Null Count  Dtype  \n",
      "---  ------    --------------  -----  \n",
      " 0   Name      6813 non-null   object \n",
      " 1   Year      6813 non-null   object \n",
      " 2   Duration  6813 non-null   float64\n",
      " 3   Genre     6813 non-null   object \n",
      " 4   Rating    6813 non-null   float64\n",
      " 5   Votes     6813 non-null   int32  \n",
      " 6   Director  6813 non-null   object \n",
      " 7   Actor 1   6813 non-null   object \n",
      " 8   Actor 2   6813 non-null   object \n",
      " 9   Actor 3   6813 non-null   object \n",
      "dtypes: float64(2), int32(1), object(7)\n",
      "memory usage: 558.9+ KB\n"
     ]
    }
   ],
   "source": [
    "movie.info()"
   ]
  },
  {
   "cell_type": "code",
   "execution_count": 27,
   "id": "4d525479",
   "metadata": {
    "execution": {
     "iopub.execute_input": "2023-11-13T09:29:26.580387Z",
     "iopub.status.busy": "2023-11-13T09:29:26.579675Z",
     "iopub.status.idle": "2023-11-13T09:29:26.586205Z",
     "shell.execute_reply": "2023-11-13T09:29:26.585568Z"
    },
    "id": "PIwvzXuEWDDq",
    "outputId": "545e3b67-8227-4b41-af39-9573df1e944b",
    "papermill": {
     "duration": 0.021809,
     "end_time": "2023-11-13T09:29:26.587889",
     "exception": false,
     "start_time": "2023-11-13T09:29:26.566080",
     "status": "completed"
    },
    "tags": []
   },
   "outputs": [
    {
     "data": {
      "text/plain": [
       "array(['2019', '1997', '2005', '2012', '2014', '2004', '2016', '1991',\n",
       "       '2018', '2010', '1958', '2017', '2009', '1993', '2002', '1946',\n",
       "       '2008', '1994', '2007', '2013', '2003', '1998', '1979', '1974',\n",
       "       '2015', '2006', '1981', '2020', '1985', '2011', '1988', '1995',\n",
       "       '1987', '2021', '1999', '1973', '1953', '1986', '1982', '1977',\n",
       "       '1968', '1969', '1948', '1970', '1990', '1989', '1947', '2001',\n",
       "       '2000', '1971', '1992', '1976', '1984', '1975', '1978', '1980',\n",
       "       '1966', '1967', '1972', '1964', '1952', '1959', '1951', '1954',\n",
       "       '1962', '1961', '1957', '1965', '1996', '1956', '1933', '1936',\n",
       "       '1983', '1955', '1950', '1963', '1949', '1960', '1940', '1945',\n",
       "       '1938', '1941', '1942', '1935', '1937', '1944', '1931', '1932',\n",
       "       '1943', '1917', '1939', '1934'], dtype=object)"
      ]
     },
     "execution_count": 27,
     "metadata": {},
     "output_type": "execute_result"
    }
   ],
   "source": [
    "movie['Year'].unique()"
   ]
  },
  {
   "cell_type": "code",
   "execution_count": 28,
   "id": "ff0a4a51",
   "metadata": {
    "execution": {
     "iopub.execute_input": "2023-11-13T09:29:26.612151Z",
     "iopub.status.busy": "2023-11-13T09:29:26.611592Z",
     "iopub.status.idle": "2023-11-13T09:29:26.628309Z",
     "shell.execute_reply": "2023-11-13T09:29:26.627545Z"
    },
    "id": "ZOiI4kpqWPLr",
    "outputId": "9632011b-ca53-4c79-e8d7-c94b9d2c9321",
    "papermill": {
     "duration": 0.030514,
     "end_time": "2023-11-13T09:29:26.629900",
     "exception": false,
     "start_time": "2023-11-13T09:29:26.599386",
     "status": "completed"
    },
    "tags": []
   },
   "outputs": [
    {
     "data": {
      "text/html": [
       "<div>\n",
       "<style scoped>\n",
       "    .dataframe tbody tr th:only-of-type {\n",
       "        vertical-align: middle;\n",
       "    }\n",
       "\n",
       "    .dataframe tbody tr th {\n",
       "        vertical-align: top;\n",
       "    }\n",
       "\n",
       "    .dataframe thead th {\n",
       "        text-align: right;\n",
       "    }\n",
       "</style>\n",
       "<table border=\"1\" class=\"dataframe\">\n",
       "  <thead>\n",
       "    <tr style=\"text-align: right;\">\n",
       "      <th></th>\n",
       "      <th>Rating</th>\n",
       "      <th>Duration</th>\n",
       "      <th>Votes</th>\n",
       "    </tr>\n",
       "  </thead>\n",
       "  <tbody>\n",
       "    <tr>\n",
       "      <th>count</th>\n",
       "      <td>6813.000000</td>\n",
       "      <td>6813.000000</td>\n",
       "      <td>6813.000000</td>\n",
       "    </tr>\n",
       "    <tr>\n",
       "      <th>mean</th>\n",
       "      <td>5.820065</td>\n",
       "      <td>132.816434</td>\n",
       "      <td>2107.025099</td>\n",
       "    </tr>\n",
       "    <tr>\n",
       "      <th>std</th>\n",
       "      <td>1.375330</td>\n",
       "      <td>22.224326</td>\n",
       "      <td>12378.151829</td>\n",
       "    </tr>\n",
       "    <tr>\n",
       "      <th>min</th>\n",
       "      <td>1.100000</td>\n",
       "      <td>21.000000</td>\n",
       "      <td>5.000000</td>\n",
       "    </tr>\n",
       "    <tr>\n",
       "      <th>25%</th>\n",
       "      <td>4.900000</td>\n",
       "      <td>123.000000</td>\n",
       "      <td>18.000000</td>\n",
       "    </tr>\n",
       "    <tr>\n",
       "      <th>50%</th>\n",
       "      <td>6.000000</td>\n",
       "      <td>132.816434</td>\n",
       "      <td>64.000000</td>\n",
       "    </tr>\n",
       "    <tr>\n",
       "      <th>75%</th>\n",
       "      <td>6.800000</td>\n",
       "      <td>144.000000</td>\n",
       "      <td>500.000000</td>\n",
       "    </tr>\n",
       "    <tr>\n",
       "      <th>max</th>\n",
       "      <td>10.000000</td>\n",
       "      <td>321.000000</td>\n",
       "      <td>591417.000000</td>\n",
       "    </tr>\n",
       "  </tbody>\n",
       "</table>\n",
       "</div>"
      ],
      "text/plain": [
       "            Rating     Duration          Votes\n",
       "count  6813.000000  6813.000000    6813.000000\n",
       "mean      5.820065   132.816434    2107.025099\n",
       "std       1.375330    22.224326   12378.151829\n",
       "min       1.100000    21.000000       5.000000\n",
       "25%       4.900000   123.000000      18.000000\n",
       "50%       6.000000   132.816434      64.000000\n",
       "75%       6.800000   144.000000     500.000000\n",
       "max      10.000000   321.000000  591417.000000"
      ]
     },
     "execution_count": 28,
     "metadata": {},
     "output_type": "execute_result"
    }
   ],
   "source": [
    "movie[['Rating', 'Duration', 'Votes']].describe()"
   ]
  },
  {
   "cell_type": "code",
   "execution_count": 29,
   "id": "f93937d9",
   "metadata": {
    "execution": {
     "iopub.execute_input": "2023-11-13T09:29:26.658779Z",
     "iopub.status.busy": "2023-11-13T09:29:26.657659Z",
     "iopub.status.idle": "2023-11-13T09:29:26.892657Z",
     "shell.execute_reply": "2023-11-13T09:29:26.890805Z"
    },
    "id": "8-97AoqyWukL",
    "papermill": {
     "duration": 0.25169,
     "end_time": "2023-11-13T09:29:26.894671",
     "exception": false,
     "start_time": "2023-11-13T09:29:26.642981",
     "status": "completed"
    },
    "tags": []
   },
   "outputs": [
    {
     "data": {
      "image/png": "[encoded data removed]",
      "text/plain": [
       "<Figure size 576x504 with 1 Axes>"
      ]
     },
     "metadata": {
      "needs_background": "light"
     },
     "output_type": "display_data"
    }
   ],
   "source": [
    "#Plotting Top 5 Rating\n",
    "top5_rating = movie[['Year', 'Rating']].sort_values(by = 'Rating',\n",
    "                                                    ascending = True).head()\n",
    "bars = top5_rating.plot(kind = 'bar',\n",
    "                        x = 'Year',\n",
    "                        y = 'Rating',\n",
    "                        color = 'blue',\n",
    "                        legend = None,\n",
    "                        figsize = (8,7))\n",
    "plt.xlabel('Year',\n",
    "           fontsize = 14,\n",
    "           fontweight = 'bold')\n",
    "plt.ylabel('Rating',\n",
    "           fontsize = 15,\n",
    "           fontweight = 'bold')\n",
    "plt.title('Top 5 Ratings from 2008-2020',\n",
    "          fontsize = 18,\n",
    "          fontweight = 'bold')\n",
    "plt.xticks(fontweight = 'bold',\n",
    "           rotation = 0)\n",
    "plt.yticks(np.arange(0, 13, 2), fontweight='bold')\n",
    "\n",
    "#Labelling Plot\n",
    "for bar in bars.patches:\n",
    "    plt.annotate(format(bar.get_height(), '.1f'),\n",
    "                 (bar.get_x() + bar.get_width() / 2, bar.get_height()),\n",
    "                 ha='center',\n",
    "                 va='center',\n",
    "                 size=15,\n",
    "                 xytext=(0, 8),\n",
    "                 textcoords='offset points')\n",
    "\n",
    "plt.show()"
   ]
  },
  {
   "cell_type": "code",
   "execution_count": 30,
   "id": "fd365435",
   "metadata": {
    "execution": {
     "iopub.execute_input": "2023-11-13T09:29:26.921555Z",
     "iopub.status.busy": "2023-11-13T09:29:26.920924Z",
     "iopub.status.idle": "2023-11-13T09:29:26.927091Z",
     "shell.execute_reply": "2023-11-13T09:29:26.926323Z"
    },
    "papermill": {
     "duration": 0.021656,
     "end_time": "2023-11-13T09:29:26.928878",
     "exception": false,
     "start_time": "2023-11-13T09:29:26.907222",
     "status": "completed"
    },
    "tags": []
   },
   "outputs": [],
   "source": [
    "movie.drop('Duration', axis=1, inplace=True)"
   ]
  },
  {
   "cell_type": "code",
   "execution_count": 31,
   "id": "b94c423e",
   "metadata": {
    "execution": {
     "iopub.execute_input": "2023-11-13T09:29:26.957543Z",
     "iopub.status.busy": "2023-11-13T09:29:26.957096Z",
     "iopub.status.idle": "2023-11-13T09:29:26.975619Z",
     "shell.execute_reply": "2023-11-13T09:29:26.974317Z"
    },
    "papermill": {
     "duration": 0.036489,
     "end_time": "2023-11-13T09:29:26.978675",
     "exception": false,
     "start_time": "2023-11-13T09:29:26.942186",
     "status": "completed"
    },
    "tags": []
   },
   "outputs": [
    {
     "data": {
      "text/html": [
       "<div>\n",
       "<style scoped>\n",
       "    .dataframe tbody tr th:only-of-type {\n",
       "        vertical-align: middle;\n",
       "    }\n",
       "\n",
       "    .dataframe tbody tr th {\n",
       "        vertical-align: top;\n",
       "    }\n",
       "\n",
       "    .dataframe thead th {\n",
       "        text-align: right;\n",
       "    }\n",
       "</style>\n",
       "<table border=\"1\" class=\"dataframe\">\n",
       "  <thead>\n",
       "    <tr style=\"text-align: right;\">\n",
       "      <th></th>\n",
       "      <th>Name</th>\n",
       "      <th>Year</th>\n",
       "      <th>Genre</th>\n",
       "      <th>Rating</th>\n",
       "      <th>Votes</th>\n",
       "      <th>Director</th>\n",
       "      <th>Actor 1</th>\n",
       "      <th>Actor 2</th>\n",
       "      <th>Actor 3</th>\n",
       "    </tr>\n",
       "  </thead>\n",
       "  <tbody>\n",
       "    <tr>\n",
       "      <th>51</th>\n",
       "      <td>2 States</td>\n",
       "      <td>2014</td>\n",
       "      <td>Comedy, Drama, Romance</td>\n",
       "      <td>6.9</td>\n",
       "      <td>24034</td>\n",
       "      <td>Abhishek Varman</td>\n",
       "      <td>Arjun Kapoor</td>\n",
       "      <td>Alia Bhatt</td>\n",
       "      <td>Amrita Singh</td>\n",
       "    </tr>\n",
       "    <tr>\n",
       "      <th>52</th>\n",
       "      <td>2.0</td>\n",
       "      <td>2018</td>\n",
       "      <td>Action, Sci-Fi</td>\n",
       "      <td>6.2</td>\n",
       "      <td>21938</td>\n",
       "      <td>S. Shankar</td>\n",
       "      <td>Rajinikanth</td>\n",
       "      <td>Akshay Kumar</td>\n",
       "      <td>Amy Jackson</td>\n",
       "    </tr>\n",
       "    <tr>\n",
       "      <th>73</th>\n",
       "      <td>3 Idiots</td>\n",
       "      <td>2009</td>\n",
       "      <td>Comedy, Drama</td>\n",
       "      <td>8.4</td>\n",
       "      <td>357889</td>\n",
       "      <td>Rajkumar Hirani</td>\n",
       "      <td>Aamir Khan</td>\n",
       "      <td>Madhavan</td>\n",
       "      <td>Mona Singh</td>\n",
       "    </tr>\n",
       "    <tr>\n",
       "      <th>169</th>\n",
       "      <td>A Wednesday</td>\n",
       "      <td>2008</td>\n",
       "      <td>Action, Crime, Drama</td>\n",
       "      <td>8.1</td>\n",
       "      <td>75118</td>\n",
       "      <td>Neeraj Pandey</td>\n",
       "      <td>Anupam Kher</td>\n",
       "      <td>Naseeruddin Shah</td>\n",
       "      <td>Jimmy Sheirgill</td>\n",
       "    </tr>\n",
       "    <tr>\n",
       "      <th>346</th>\n",
       "      <td>Aamir</td>\n",
       "      <td>2008</td>\n",
       "      <td>Action, Crime, Drama</td>\n",
       "      <td>7.7</td>\n",
       "      <td>10862</td>\n",
       "      <td>Raj Kumar Gupta</td>\n",
       "      <td>Rajeev Khandelwal</td>\n",
       "      <td>Aishwarya</td>\n",
       "      <td>Vasan Bala</td>\n",
       "    </tr>\n",
       "    <tr>\n",
       "      <th>...</th>\n",
       "      <td>...</td>\n",
       "      <td>...</td>\n",
       "      <td>...</td>\n",
       "      <td>...</td>\n",
       "      <td>...</td>\n",
       "      <td>...</td>\n",
       "      <td>...</td>\n",
       "      <td>...</td>\n",
       "      <td>...</td>\n",
       "    </tr>\n",
       "    <tr>\n",
       "      <th>13430</th>\n",
       "      <td>When Love Calls</td>\n",
       "      <td>1989</td>\n",
       "      <td>Drama, Musical, Romance</td>\n",
       "      <td>7.3</td>\n",
       "      <td>11486</td>\n",
       "      <td>Sooraj R. Barjatya</td>\n",
       "      <td>Salman Khan</td>\n",
       "      <td>Bhagyashree</td>\n",
       "      <td>Alok Nath</td>\n",
       "    </tr>\n",
       "    <tr>\n",
       "      <th>13614</th>\n",
       "      <td>Yeh Jawaani Hai Deewani</td>\n",
       "      <td>2013</td>\n",
       "      <td>Drama, Musical, Romance</td>\n",
       "      <td>7.1</td>\n",
       "      <td>39863</td>\n",
       "      <td>Ayan Mukherjee</td>\n",
       "      <td>Ranbir Kapoor</td>\n",
       "      <td>Deepika Padukone</td>\n",
       "      <td>Aditya Roy Kapoor</td>\n",
       "    </tr>\n",
       "    <tr>\n",
       "      <th>13666</th>\n",
       "      <td>Yes Boss</td>\n",
       "      <td>1997</td>\n",
       "      <td>Comedy, Drama, Musical</td>\n",
       "      <td>6.8</td>\n",
       "      <td>12714</td>\n",
       "      <td>Aziz Mirza</td>\n",
       "      <td>Shah Rukh Khan</td>\n",
       "      <td>Juhi Chawla</td>\n",
       "      <td>Aditya Pancholi</td>\n",
       "    </tr>\n",
       "    <tr>\n",
       "      <th>13770</th>\n",
       "      <td>Zero</td>\n",
       "      <td>2018</td>\n",
       "      <td>Comedy, Drama, Romance</td>\n",
       "      <td>5.4</td>\n",
       "      <td>24784</td>\n",
       "      <td>Aanand L. Rai</td>\n",
       "      <td>Shah Rukh Khan</td>\n",
       "      <td>Anushka Sharma</td>\n",
       "      <td>Katrina Kaif</td>\n",
       "    </tr>\n",
       "    <tr>\n",
       "      <th>13805</th>\n",
       "      <td>Zindagi Na Milegi Dobara</td>\n",
       "      <td>2011</td>\n",
       "      <td>Comedy, Drama</td>\n",
       "      <td>8.2</td>\n",
       "      <td>70344</td>\n",
       "      <td>Zoya Akhtar</td>\n",
       "      <td>Hrithik Roshan</td>\n",
       "      <td>Farhan Akhtar</td>\n",
       "      <td>Abhay Deol</td>\n",
       "    </tr>\n",
       "  </tbody>\n",
       "</table>\n",
       "<p>313 rows × 9 columns</p>\n",
       "</div>"
      ],
      "text/plain": [
       "                           Name  Year                    Genre  Rating  \\\n",
       "51                     2 States  2014   Comedy, Drama, Romance     6.9   \n",
       "52                          2.0  2018           Action, Sci-Fi     6.2   \n",
       "73                     3 Idiots  2009            Comedy, Drama     8.4   \n",
       "169                 A Wednesday  2008     Action, Crime, Drama     8.1   \n",
       "346                       Aamir  2008     Action, Crime, Drama     7.7   \n",
       "...                         ...   ...                      ...     ...   \n",
       "13430           When Love Calls  1989  Drama, Musical, Romance     7.3   \n",
       "13614   Yeh Jawaani Hai Deewani  2013  Drama, Musical, Romance     7.1   \n",
       "13666                  Yes Boss  1997   Comedy, Drama, Musical     6.8   \n",
       "13770                      Zero  2018   Comedy, Drama, Romance     5.4   \n",
       "13805  Zindagi Na Milegi Dobara  2011            Comedy, Drama     8.2   \n",
       "\n",
       "        Votes            Director            Actor 1           Actor 2  \\\n",
       "51      24034     Abhishek Varman       Arjun Kapoor        Alia Bhatt   \n",
       "52      21938          S. Shankar        Rajinikanth      Akshay Kumar   \n",
       "73     357889     Rajkumar Hirani         Aamir Khan          Madhavan   \n",
       "169     75118       Neeraj Pandey        Anupam Kher  Naseeruddin Shah   \n",
       "346     10862     Raj Kumar Gupta  Rajeev Khandelwal         Aishwarya   \n",
       "...       ...                 ...                ...               ...   \n",
       "13430   11486  Sooraj R. Barjatya        Salman Khan       Bhagyashree   \n",
       "13614   39863      Ayan Mukherjee      Ranbir Kapoor  Deepika Padukone   \n",
       "13666   12714          Aziz Mirza     Shah Rukh Khan       Juhi Chawla   \n",
       "13770   24784       Aanand L. Rai     Shah Rukh Khan    Anushka Sharma   \n",
       "13805   70344         Zoya Akhtar     Hrithik Roshan     Farhan Akhtar   \n",
       "\n",
       "                 Actor 3  \n",
       "51          Amrita Singh  \n",
       "52           Amy Jackson  \n",
       "73            Mona Singh  \n",
       "169      Jimmy Sheirgill  \n",
       "346           Vasan Bala  \n",
       "...                  ...  \n",
       "13430          Alok Nath  \n",
       "13614  Aditya Roy Kapoor  \n",
       "13666    Aditya Pancholi  \n",
       "13770       Katrina Kaif  \n",
       "13805         Abhay Deol  \n",
       "\n",
       "[313 rows x 9 columns]"
      ]
     },
     "execution_count": 31,
     "metadata": {},
     "output_type": "execute_result"
    }
   ],
   "source": [
    "movie[movie['Votes']>10000]"
   ]
  },
  {
   "cell_type": "code",
   "execution_count": 32,
   "id": "90b31bc1",
   "metadata": {
    "execution": {
     "iopub.execute_input": "2023-11-13T09:29:27.007570Z",
     "iopub.status.busy": "2023-11-13T09:29:27.006404Z",
     "iopub.status.idle": "2023-11-13T09:29:27.014389Z",
     "shell.execute_reply": "2023-11-13T09:29:27.013068Z"
    },
    "papermill": {
     "duration": 0.0244,
     "end_time": "2023-11-13T09:29:27.016456",
     "exception": false,
     "start_time": "2023-11-13T09:29:26.992056",
     "status": "completed"
    },
    "tags": []
   },
   "outputs": [
    {
     "data": {
      "text/plain": [
       "(6813, 9)"
      ]
     },
     "execution_count": 32,
     "metadata": {},
     "output_type": "execute_result"
    }
   ],
   "source": [
    "movie.shape"
   ]
  },
  {
   "cell_type": "code",
   "execution_count": 33,
   "id": "2c77a254",
   "metadata": {
    "execution": {
     "iopub.execute_input": "2023-11-13T09:29:27.045069Z",
     "iopub.status.busy": "2023-11-13T09:29:27.044399Z",
     "iopub.status.idle": "2023-11-13T09:29:27.050331Z",
     "shell.execute_reply": "2023-11-13T09:29:27.049190Z"
    },
    "papermill": {
     "duration": 0.022143,
     "end_time": "2023-11-13T09:29:27.052065",
     "exception": false,
     "start_time": "2023-11-13T09:29:27.029922",
     "status": "completed"
    },
    "tags": []
   },
   "outputs": [],
   "source": [
    "movie_update = movie.drop(['Name'], axis=1)"
   ]
  },
  {
   "cell_type": "code",
   "execution_count": 34,
   "id": "955d0e16",
   "metadata": {
    "execution": {
     "iopub.execute_input": "2023-11-13T09:29:27.079583Z",
     "iopub.status.busy": "2023-11-13T09:29:27.078166Z",
     "iopub.status.idle": "2023-11-13T09:29:27.090090Z",
     "shell.execute_reply": "2023-11-13T09:29:27.089461Z"
    },
    "papermill": {
     "duration": 0.027142,
     "end_time": "2023-11-13T09:29:27.091831",
     "exception": false,
     "start_time": "2023-11-13T09:29:27.064689",
     "status": "completed"
    },
    "tags": []
   },
   "outputs": [
    {
     "name": "stdout",
     "output_type": "stream",
     "text": [
      "<class 'pandas.core.frame.DataFrame'>\n",
      "Int64Index: 6813 entries, 0 to 13836\n",
      "Data columns (total 8 columns):\n",
      " #   Column    Non-Null Count  Dtype  \n",
      "---  ------    --------------  -----  \n",
      " 0   Year      6813 non-null   object \n",
      " 1   Genre     6813 non-null   object \n",
      " 2   Rating    6813 non-null   float64\n",
      " 3   Votes     6813 non-null   int32  \n",
      " 4   Director  6813 non-null   object \n",
      " 5   Actor 1   6813 non-null   object \n",
      " 6   Actor 2   6813 non-null   object \n",
      " 7   Actor 3   6813 non-null   object \n",
      "dtypes: float64(1), int32(1), object(6)\n",
      "memory usage: 452.4+ KB\n"
     ]
    }
   ],
   "source": [
    "movie_update.info()"
   ]
  },
  {
   "cell_type": "code",
   "execution_count": 35,
   "id": "ab8a01b4",
   "metadata": {
    "execution": {
     "iopub.execute_input": "2023-11-13T09:29:27.121686Z",
     "iopub.status.busy": "2023-11-13T09:29:27.121112Z",
     "iopub.status.idle": "2023-11-13T09:29:27.132452Z",
     "shell.execute_reply": "2023-11-13T09:29:27.131866Z"
    },
    "papermill": {
     "duration": 0.028155,
     "end_time": "2023-11-13T09:29:27.134180",
     "exception": false,
     "start_time": "2023-11-13T09:29:27.106025",
     "status": "completed"
    },
    "tags": []
   },
   "outputs": [
    {
     "data": {
      "text/html": [
       "<div>\n",
       "<style scoped>\n",
       "    .dataframe tbody tr th:only-of-type {\n",
       "        vertical-align: middle;\n",
       "    }\n",
       "\n",
       "    .dataframe tbody tr th {\n",
       "        vertical-align: top;\n",
       "    }\n",
       "\n",
       "    .dataframe thead th {\n",
       "        text-align: right;\n",
       "    }\n",
       "</style>\n",
       "<table border=\"1\" class=\"dataframe\">\n",
       "  <thead>\n",
       "    <tr style=\"text-align: right;\">\n",
       "      <th></th>\n",
       "      <th>Year</th>\n",
       "      <th>Genre</th>\n",
       "      <th>Votes</th>\n",
       "      <th>Director</th>\n",
       "      <th>Actor 1</th>\n",
       "      <th>Actor 2</th>\n",
       "      <th>Actor 3</th>\n",
       "    </tr>\n",
       "  </thead>\n",
       "  <tbody>\n",
       "    <tr>\n",
       "      <th>0</th>\n",
       "      <td>2019</td>\n",
       "      <td>Drama</td>\n",
       "      <td>8</td>\n",
       "      <td>Gaurav Bakshi</td>\n",
       "      <td>Rasika Dugal</td>\n",
       "      <td>Vivek Ghamande</td>\n",
       "      <td>Arvind Jangid</td>\n",
       "    </tr>\n",
       "    <tr>\n",
       "      <th>2</th>\n",
       "      <td>2019</td>\n",
       "      <td>Comedy, Romance</td>\n",
       "      <td>35</td>\n",
       "      <td>Ovais Khan</td>\n",
       "      <td>Prateik</td>\n",
       "      <td>Ishita Raj</td>\n",
       "      <td>Siddhant Kapoor</td>\n",
       "    </tr>\n",
       "    <tr>\n",
       "      <th>4</th>\n",
       "      <td>1997</td>\n",
       "      <td>Comedy, Drama, Musical</td>\n",
       "      <td>827</td>\n",
       "      <td>Rahul Rawail</td>\n",
       "      <td>Bobby Deol</td>\n",
       "      <td>Aishwarya Rai Bachchan</td>\n",
       "      <td>Shammi Kapoor</td>\n",
       "    </tr>\n",
       "    <tr>\n",
       "      <th>5</th>\n",
       "      <td>2005</td>\n",
       "      <td>Drama, Romance, War</td>\n",
       "      <td>1086</td>\n",
       "      <td>Shoojit Sircar</td>\n",
       "      <td>Jimmy Sheirgill</td>\n",
       "      <td>Minissha Lamba</td>\n",
       "      <td>Yashpal Sharma</td>\n",
       "    </tr>\n",
       "    <tr>\n",
       "      <th>7</th>\n",
       "      <td>2012</td>\n",
       "      <td>Horror, Mystery, Thriller</td>\n",
       "      <td>326</td>\n",
       "      <td>Allyson Patel</td>\n",
       "      <td>Yash Dave</td>\n",
       "      <td>Muntazir Ahmad</td>\n",
       "      <td>Kiran Bhatia</td>\n",
       "    </tr>\n",
       "  </tbody>\n",
       "</table>\n",
       "</div>"
      ],
      "text/plain": [
       "   Year                      Genre  Votes        Director          Actor 1  \\\n",
       "0  2019                      Drama      8   Gaurav Bakshi     Rasika Dugal   \n",
       "2  2019            Comedy, Romance     35      Ovais Khan          Prateik   \n",
       "4  1997     Comedy, Drama, Musical    827    Rahul Rawail       Bobby Deol   \n",
       "5  2005        Drama, Romance, War   1086  Shoojit Sircar  Jimmy Sheirgill   \n",
       "7  2012  Horror, Mystery, Thriller    326   Allyson Patel        Yash Dave   \n",
       "\n",
       "                  Actor 2          Actor 3  \n",
       "0          Vivek Ghamande    Arvind Jangid  \n",
       "2              Ishita Raj  Siddhant Kapoor  \n",
       "4  Aishwarya Rai Bachchan    Shammi Kapoor  \n",
       "5          Minissha Lamba   Yashpal Sharma  \n",
       "7          Muntazir Ahmad     Kiran Bhatia  "
      ]
     },
     "execution_count": 35,
     "metadata": {},
     "output_type": "execute_result"
    }
   ],
   "source": [
    "X = movie_update.drop('Rating', axis=1)\n",
    "Y = movie_update['Rating']\n",
    "\n",
    "X.head()"
   ]
  },
  {
   "cell_type": "code",
   "execution_count": 36,
   "id": "93a9d1cb",
   "metadata": {
    "execution": {
     "iopub.execute_input": "2023-11-13T09:29:27.162720Z",
     "iopub.status.busy": "2023-11-13T09:29:27.162312Z",
     "iopub.status.idle": "2023-11-13T09:29:27.193367Z",
     "shell.execute_reply": "2023-11-13T09:29:27.192252Z"
    },
    "papermill": {
     "duration": 0.048527,
     "end_time": "2023-11-13T09:29:27.195875",
     "exception": false,
     "start_time": "2023-11-13T09:29:27.147348",
     "status": "completed"
    },
    "tags": []
   },
   "outputs": [],
   "source": [
    "actor1_encoding_map = movie_update.groupby('Actor 1').agg({'Rating': 'mean'}).to_dict()\n",
    "actor2_encoding_map = movie_update.groupby('Actor 2').agg({'Rating': 'mean'}).to_dict()\n",
    "actor3_encoding_map = movie_update.groupby('Actor 3').agg({'Rating': 'mean'}).to_dict()\n",
    "director_encoding_map = movie_update.groupby('Director').agg({'Rating': 'mean'}).to_dict()\n",
    "genre_encoding_map = movie_update.groupby('Genre').agg({'Rating': 'mean'}).to_dict()"
   ]
  },
  {
   "cell_type": "code",
   "execution_count": 37,
   "id": "c1d8b9a5",
   "metadata": {
    "execution": {
     "iopub.execute_input": "2023-11-13T09:29:27.224410Z",
     "iopub.status.busy": "2023-11-13T09:29:27.223001Z",
     "iopub.status.idle": "2023-11-13T09:29:27.239009Z",
     "shell.execute_reply": "2023-11-13T09:29:27.237860Z"
    },
    "papermill": {
     "duration": 0.031742,
     "end_time": "2023-11-13T09:29:27.240953",
     "exception": false,
     "start_time": "2023-11-13T09:29:27.209211",
     "status": "completed"
    },
    "tags": []
   },
   "outputs": [],
   "source": [
    "movie_update['actor1_encoded'] = round(movie_update['Actor 1'].map(actor1_encoding_map['Rating']),1)\n",
    "movie_update['actor2_encoded'] = round(movie_update['Actor 2'].map(actor2_encoding_map['Rating']),1)\n",
    "movie_update['actor3_encoded'] = round(movie_update['Actor 3'].map(actor3_encoding_map['Rating']),1)\n",
    "movie_update['director_encoded'] = round(movie_update['Director'].map(director_encoding_map['Rating']),1)\n",
    "movie_update['genre_encoded'] = round(movie_update['Genre'].map(genre_encoding_map['Rating']),1)"
   ]
  },
  {
   "cell_type": "code",
   "execution_count": 38,
   "id": "49b43237",
   "metadata": {
    "execution": {
     "iopub.execute_input": "2023-11-13T09:29:27.269238Z",
     "iopub.status.busy": "2023-11-13T09:29:27.268040Z",
     "iopub.status.idle": "2023-11-13T09:29:27.286440Z",
     "shell.execute_reply": "2023-11-13T09:29:27.285207Z"
    },
    "papermill": {
     "duration": 0.034475,
     "end_time": "2023-11-13T09:29:27.288539",
     "exception": false,
     "start_time": "2023-11-13T09:29:27.254064",
     "status": "completed"
    },
    "tags": []
   },
   "outputs": [
    {
     "data": {
      "text/html": [
       "<div>\n",
       "<style scoped>\n",
       "    .dataframe tbody tr th:only-of-type {\n",
       "        vertical-align: middle;\n",
       "    }\n",
       "\n",
       "    .dataframe tbody tr th {\n",
       "        vertical-align: top;\n",
       "    }\n",
       "\n",
       "    .dataframe thead th {\n",
       "        text-align: right;\n",
       "    }\n",
       "</style>\n",
       "<table border=\"1\" class=\"dataframe\">\n",
       "  <thead>\n",
       "    <tr style=\"text-align: right;\">\n",
       "      <th></th>\n",
       "      <th>Year</th>\n",
       "      <th>Rating</th>\n",
       "      <th>Votes</th>\n",
       "      <th>actor1_encoded</th>\n",
       "      <th>actor2_encoded</th>\n",
       "      <th>actor3_encoded</th>\n",
       "      <th>director_encoded</th>\n",
       "      <th>genre_encoded</th>\n",
       "    </tr>\n",
       "  </thead>\n",
       "  <tbody>\n",
       "    <tr>\n",
       "      <th>0</th>\n",
       "      <td>2019</td>\n",
       "      <td>7.0</td>\n",
       "      <td>8</td>\n",
       "      <td>6.8</td>\n",
       "      <td>7.0</td>\n",
       "      <td>7.0</td>\n",
       "      <td>7.0</td>\n",
       "      <td>6.4</td>\n",
       "    </tr>\n",
       "    <tr>\n",
       "      <th>2</th>\n",
       "      <td>2019</td>\n",
       "      <td>4.4</td>\n",
       "      <td>35</td>\n",
       "      <td>5.4</td>\n",
       "      <td>4.4</td>\n",
       "      <td>4.4</td>\n",
       "      <td>4.4</td>\n",
       "      <td>5.7</td>\n",
       "    </tr>\n",
       "    <tr>\n",
       "      <th>4</th>\n",
       "      <td>1997</td>\n",
       "      <td>4.7</td>\n",
       "      <td>827</td>\n",
       "      <td>4.9</td>\n",
       "      <td>5.8</td>\n",
       "      <td>5.9</td>\n",
       "      <td>5.3</td>\n",
       "      <td>6.2</td>\n",
       "    </tr>\n",
       "    <tr>\n",
       "      <th>5</th>\n",
       "      <td>2005</td>\n",
       "      <td>7.4</td>\n",
       "      <td>1086</td>\n",
       "      <td>5.2</td>\n",
       "      <td>6.0</td>\n",
       "      <td>6.5</td>\n",
       "      <td>7.5</td>\n",
       "      <td>7.4</td>\n",
       "    </tr>\n",
       "    <tr>\n",
       "      <th>7</th>\n",
       "      <td>2012</td>\n",
       "      <td>5.6</td>\n",
       "      <td>326</td>\n",
       "      <td>5.6</td>\n",
       "      <td>5.9</td>\n",
       "      <td>5.6</td>\n",
       "      <td>5.6</td>\n",
       "      <td>5.5</td>\n",
       "    </tr>\n",
       "  </tbody>\n",
       "</table>\n",
       "</div>"
      ],
      "text/plain": [
       "   Year  Rating  Votes  actor1_encoded  actor2_encoded  actor3_encoded  \\\n",
       "0  2019     7.0      8             6.8             7.0             7.0   \n",
       "2  2019     4.4     35             5.4             4.4             4.4   \n",
       "4  1997     4.7    827             4.9             5.8             5.9   \n",
       "5  2005     7.4   1086             5.2             6.0             6.5   \n",
       "7  2012     5.6    326             5.6             5.9             5.6   \n",
       "\n",
       "   director_encoded  genre_encoded  \n",
       "0               7.0            6.4  \n",
       "2               4.4            5.7  \n",
       "4               5.3            6.2  \n",
       "5               7.5            7.4  \n",
       "7               5.6            5.5  "
      ]
     },
     "execution_count": 38,
     "metadata": {},
     "output_type": "execute_result"
    }
   ],
   "source": [
    "movie_update.drop(['Actor 1', 'Actor 2', 'Actor 3', 'Director', 'Genre'], axis=1, inplace=True)\n",
    "movie_update.head()"
   ]
  },
  {
   "cell_type": "code",
   "execution_count": 39,
   "id": "b8e640c0",
   "metadata": {
    "execution": {
     "iopub.execute_input": "2023-11-13T09:29:27.319349Z",
     "iopub.status.busy": "2023-11-13T09:29:27.318973Z",
     "iopub.status.idle": "2023-11-13T09:29:27.326279Z",
     "shell.execute_reply": "2023-11-13T09:29:27.324713Z"
    },
    "papermill": {
     "duration": 0.0256,
     "end_time": "2023-11-13T09:29:27.328823",
     "exception": false,
     "start_time": "2023-11-13T09:29:27.303223",
     "status": "completed"
    },
    "tags": []
   },
   "outputs": [],
   "source": [
    "X= movie_update[['Year', 'Votes', 'genre_encoded', 'director_encoded', 'actor1_encoded', 'actor2_encoded', 'actor3_encoded']]\n",
    "y= movie_update['Rating']"
   ]
  },
  {
   "cell_type": "code",
   "execution_count": 40,
   "id": "48c1118c",
   "metadata": {
    "execution": {
     "iopub.execute_input": "2023-11-13T09:29:27.358354Z",
     "iopub.status.busy": "2023-11-13T09:29:27.357174Z",
     "iopub.status.idle": "2023-11-13T09:29:27.364761Z",
     "shell.execute_reply": "2023-11-13T09:29:27.364080Z"
    },
    "papermill": {
     "duration": 0.023878,
     "end_time": "2023-11-13T09:29:27.366676",
     "exception": false,
     "start_time": "2023-11-13T09:29:27.342798",
     "status": "completed"
    },
    "tags": []
   },
   "outputs": [],
   "source": [
    "X_train,X_test,y_train,y_test = train_test_split(X,y,test_size=0.2,random_state=42)"
   ]
  },
  {
   "cell_type": "code",
   "execution_count": 41,
   "id": "81e745a3",
   "metadata": {
    "execution": {
     "iopub.execute_input": "2023-11-13T09:29:27.397813Z",
     "iopub.status.busy": "2023-11-13T09:29:27.397074Z",
     "iopub.status.idle": "2023-11-13T09:29:29.379060Z",
     "shell.execute_reply": "2023-11-13T09:29:29.377993Z"
    },
    "papermill": {
     "duration": 2.000514,
     "end_time": "2023-11-13T09:29:29.381720",
     "exception": false,
     "start_time": "2023-11-13T09:29:27.381206",
     "status": "completed"
    },
    "tags": []
   },
   "outputs": [],
   "source": [
    "#Building Model\n",
    "#Using Linear Regression\n",
    "#And Random Forest Regressor\n",
    "lr = LinearRegression()\n",
    "lr.fit(X_train, y_train)\n",
    "lr_pred= lr.predict(X_test)\n",
    "\n",
    "rf = RandomForestRegressor()\n",
    "rf.fit(X_train, y_train)\n",
    "rf_pred= rf.predict(X_test)"
   ]
  },
  {
   "cell_type": "code",
   "execution_count": 42,
   "id": "c18d17cf",
   "metadata": {
    "execution": {
     "iopub.execute_input": "2023-11-13T09:29:29.410439Z",
     "iopub.status.busy": "2023-11-13T09:29:29.410042Z",
     "iopub.status.idle": "2023-11-13T09:29:29.419797Z",
     "shell.execute_reply": "2023-11-13T09:29:29.417832Z"
    },
    "papermill": {
     "duration": 0.025759,
     "end_time": "2023-11-13T09:29:29.421854",
     "exception": false,
     "start_time": "2023-11-13T09:29:29.396095",
     "status": "completed"
    },
    "tags": []
   },
   "outputs": [
    {
     "name": "stdout",
     "output_type": "stream",
     "text": [
      "Mean Squared error: 0.43564969086690297\n",
      "Mean Absolute error: 0.4893020620609942\n",
      "R2 Score 0.7645950603141707\n",
      "This is the result by using Linear Regression\n"
     ]
    }
   ],
   "source": [
    "#For Linear Regression\n",
    "print('Mean Squared error:', mean_squared_error(y_test, lr_pred))\n",
    "print('Mean Absolute error:', mean_absolute_error(y_test, lr_pred))\n",
    "print('R2 Score', r2_score(y_test, lr_pred))\n",
    "print('This is the result by using Linear Regression')"
   ]
  },
  {
   "cell_type": "code",
   "execution_count": 43,
   "id": "c5a7a245",
   "metadata": {
    "execution": {
     "iopub.execute_input": "2023-11-13T09:29:29.449983Z",
     "iopub.status.busy": "2023-11-13T09:29:29.449598Z",
     "iopub.status.idle": "2023-11-13T09:29:29.457779Z",
     "shell.execute_reply": "2023-11-13T09:29:29.456599Z"
    },
    "papermill": {
     "duration": 0.023857,
     "end_time": "2023-11-13T09:29:29.459517",
     "exception": false,
     "start_time": "2023-11-13T09:29:29.435660",
     "status": "completed"
    },
    "tags": []
   },
   "outputs": [
    {
     "name": "stdout",
     "output_type": "stream",
     "text": [
      "Mean squared error:  0.3565084930300807\n",
      "Mean absolute error:  0.40403081438004407\n",
      "R2 score:  0.8073593025344945\n",
      "This is the result by using Random Forest Regressor\n"
     ]
    }
   ],
   "source": [
    "#For Random Forest Regressor\n",
    "print('Mean squared error: ',mean_squared_error(y_test, rf_pred))\n",
    "print('Mean absolute error: ',mean_absolute_error(y_test, rf_pred))\n",
    "print('R2 score: ',r2_score(y_test, rf_pred))\n",
    "print('This is the result by using Random Forest Regressor')"
   ]
  },
  {
   "cell_type": "code",
   "execution_count": null,
   "id": "20e92619",
   "metadata": {},
   "outputs": [],
   "source": []
  },
  {
   "cell_type": "code",
   "execution_count": null,
   "id": "999ad724",
   "metadata": {},
   "outputs": [],
   "source": []
  }
 ],
 "metadata": {
  "kernelspec": {
   "display_name": "Python 3 (ipykernel)",
   "language": "python",
   "name": "python3"
  },
  "language_info": {
   "codemirror_mode": {
    "name": "ipython",
    "version": 3
   },
   "file_extension": ".py",
   "mimetype": "text/x-python",
   "name": "python",
   "nbconvert_exporter": "python",
   "pygments_lexer": "ipython3",
   "version": "3.9.12"
  },
  "papermill": {
   "default_parameters": {},
   "duration": 10.26625,
   "end_time": "2023-11-13T09:29:30.194601",
   "environment_variables": {},
   "exception": null,
   "input_path": "__notebook__.ipynb",
   "output_path": "__notebook__.ipynb",
   "parameters": {},
   "start_time": "2023-11-13T09:29:19.928351",
   "version": "2.4.0"
  }
 },
 "nbformat": 4,
 "nbformat_minor": 5
}
